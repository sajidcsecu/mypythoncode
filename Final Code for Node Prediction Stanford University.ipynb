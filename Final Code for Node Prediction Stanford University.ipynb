{
 "cells": [
  {
   "cell_type": "code",
   "execution_count": 143,
   "metadata": {},
   "outputs": [],
   "source": [
    "# Imports\n",
    "import numpy as np \n",
    "import networkx as nx\n",
    "from networkx import karate_club_graph, to_numpy_matrix"
   ]
  },
  {
   "cell_type": "code",
   "execution_count": 144,
   "metadata": {},
   "outputs": [
    {
     "data": {
      "image/png": "[encoded data removed]",
      "text/plain": [
       "<Figure size 432x288 with 1 Axes>"
      ]
     },
     "metadata": {},
     "output_type": "display_data"
    }
   ],
   "source": [
    "G= nx.Graph()\n",
    "G.add_edges_from([(0,1), (0,2), (0,3), (1,2), (2,4), (2,5), (4,5)])\n",
    "nx.draw(G, with_labels=True)"
   ]
  },
  {
   "cell_type": "code",
   "execution_count": 145,
   "metadata": {},
   "outputs": [
    {
     "data": {
      "text/plain": [
       "[0, 1, 2, 3, 4, 5]"
      ]
     },
     "execution_count": 145,
     "metadata": {},
     "output_type": "execute_result"
    }
   ],
   "source": [
    "order = sorted(list(G.nodes()))\n",
    "order"
   ]
  },
  {
   "cell_type": "code",
   "execution_count": 146,
   "metadata": {},
   "outputs": [
    {
     "data": {
      "text/plain": [
       "7"
      ]
     },
     "execution_count": 146,
     "metadata": {},
     "output_type": "execute_result"
    }
   ],
   "source": [
    "G.number_of_edges()"
   ]
  },
  {
   "cell_type": "code",
   "execution_count": 147,
   "metadata": {},
   "outputs": [],
   "source": [
    "A = nx.to_numpy_matrix(G, nodelist=order)"
   ]
  },
  {
   "cell_type": "code",
   "execution_count": 148,
   "metadata": {},
   "outputs": [
    {
     "data": {
      "text/plain": [
       "matrix([[0., 1., 1., 1., 0., 0.],\n",
       "        [1., 0., 1., 0., 0., 0.],\n",
       "        [1., 1., 0., 0., 1., 1.],\n",
       "        [1., 0., 0., 0., 0., 0.],\n",
       "        [0., 0., 1., 0., 0., 1.],\n",
       "        [0., 0., 1., 0., 1., 0.]])"
      ]
     },
     "execution_count": 148,
     "metadata": {},
     "output_type": "execute_result"
    }
   ],
   "source": [
    "A"
   ]
  },
  {
   "cell_type": "code",
   "execution_count": 149,
   "metadata": {},
   "outputs": [],
   "source": [
    "I = np.eye(G.number_of_nodes())"
   ]
  },
  {
   "cell_type": "code",
   "execution_count": 150,
   "metadata": {},
   "outputs": [
    {
     "data": {
      "text/plain": [
       "array([[1., 0., 0., 0., 0., 0.],\n",
       "       [0., 1., 0., 0., 0., 0.],\n",
       "       [0., 0., 1., 0., 0., 0.],\n",
       "       [0., 0., 0., 1., 0., 0.],\n",
       "       [0., 0., 0., 0., 1., 0.],\n",
       "       [0., 0., 0., 0., 0., 1.]])"
      ]
     },
     "execution_count": 150,
     "metadata": {},
     "output_type": "execute_result"
    }
   ],
   "source": [
    "I"
   ]
  },
  {
   "cell_type": "code",
   "execution_count": 151,
   "metadata": {},
   "outputs": [
    {
     "data": {
      "text/plain": [
       "matrix([[1., 1., 1., 1., 0., 0.],\n",
       "        [1., 1., 1., 0., 0., 0.],\n",
       "        [1., 1., 1., 0., 1., 1.],\n",
       "        [1., 0., 0., 1., 0., 0.],\n",
       "        [0., 0., 1., 0., 1., 1.],\n",
       "        [0., 0., 1., 0., 1., 1.]])"
      ]
     },
     "execution_count": 151,
     "metadata": {},
     "output_type": "execute_result"
    }
   ],
   "source": [
    "A_own = A + I\n",
    "A_own"
   ]
  },
  {
   "cell_type": "code",
   "execution_count": 152,
   "metadata": {},
   "outputs": [
    {
     "data": {
      "text/plain": [
       "matrix([[0.5       , 0.        , 0.        , 0.        , 0.        ,\n",
       "         0.        ],\n",
       "        [0.        , 0.57735027, 0.        , 0.        , 0.        ,\n",
       "         0.        ],\n",
       "        [0.        , 0.        , 0.4472136 , 0.        , 0.        ,\n",
       "         0.        ],\n",
       "        [0.        , 0.        , 0.        , 0.70710678, 0.        ,\n",
       "         0.        ],\n",
       "        [0.        , 0.        , 0.        , 0.        , 0.57735027,\n",
       "         0.        ],\n",
       "        [0.        , 0.        , 0.        , 0.        , 0.        ,\n",
       "         0.57735027]])"
      ]
     },
     "execution_count": 152,
     "metadata": {},
     "output_type": "execute_result"
    }
   ],
   "source": [
    "D_own = np.array(np.sum(A_own, axis=0))[0]\n",
    "D_inv=D_own**(-.5)\n",
    "D_inv = np.matrix(np.diag(D_inv))\n",
    "D_inv"
   ]
  },
  {
   "cell_type": "code",
   "execution_count": 153,
   "metadata": {},
   "outputs": [
    {
     "data": {
      "text/plain": [
       "array([[-0.20633603,  0.88369678,  0.85310078, -0.33271647],\n",
       "       [-0.50797253,  0.02707363,  0.98577156,  0.35008251],\n",
       "       [-0.54559275,  0.6106041 ,  1.37026692, -0.22941536],\n",
       "       [ 0.98139943,  1.57443369,  0.69478197,  0.53158286],\n",
       "       [ 1.05377297, -2.58552321,  0.06561018,  0.67703962],\n",
       "       [ 0.69709112,  0.33707908, -1.11218523,  1.64483937]])"
      ]
     },
     "execution_count": 153,
     "metadata": {},
     "output_type": "execute_result"
    }
   ],
   "source": [
    "W1 = np.random.normal(loc=0, scale=1, size=(G.number_of_nodes(), 4))\n",
    "W1"
   ]
  },
  {
   "cell_type": "code",
   "execution_count": 154,
   "metadata": {},
   "outputs": [
    {
     "data": {
      "text/plain": [
       "array([[ 0.29937744, -0.95346368],\n",
       "       [-0.3485587 ,  2.14120767],\n",
       "       [ 0.80471207,  0.37878627],\n",
       "       [-0.2748385 , -0.69065591]])"
      ]
     },
     "execution_count": 154,
     "metadata": {},
     "output_type": "execute_result"
    }
   ],
   "source": [
    "W2 = np.random.normal(loc=0, size=(W1.shape[1], 2))\n",
    "W2"
   ]
  },
  {
   "cell_type": "code",
   "execution_count": 155,
   "metadata": {},
   "outputs": [],
   "source": [
    "def gcn_layer(A, D, X, W):\n",
    "    feature=D * A * D * X * W\n",
    "    feature=np.maximum(0,feature)\n",
    "    return feature"
   ]
  },
  {
   "cell_type": "code",
   "execution_count": 156,
   "metadata": {},
   "outputs": [],
   "source": [
    "H1 = gcn_layer(A_own, D_inv, I, W1)"
   ]
  },
  {
   "cell_type": "code",
   "execution_count": 157,
   "metadata": {},
   "outputs": [
    {
     "data": {
      "text/plain": [
       "matrix([[0.0267558 , 0.92192127, 1.04988645, 0.15452509],\n",
       "        [0.        , 0.42178313, 0.9286609 , 0.        ],\n",
       "        [0.16565653, 0.        , 0.44911312, 0.56961676],\n",
       "        [0.41774891, 1.09965083, 0.64900766, 0.14815839],\n",
       "        [0.44274992, 0.        , 0.00494305, 0.71472487],\n",
       "        [0.44274992, 0.        , 0.00494305, 0.71472487]])"
      ]
     },
     "execution_count": 157,
     "metadata": {},
     "output_type": "execute_result"
    }
   ],
   "source": [
    "H1"
   ]
  },
  {
   "cell_type": "code",
   "execution_count": 55,
   "metadata": {},
   "outputs": [
    {
     "data": {
      "text/plain": [
       "matrix([[0.04016574, 0.02001562],\n",
       "        [0.        , 0.0210504 ],\n",
       "        [0.08446047, 0.01909497],\n",
       "        [0.09808897, 0.00515136],\n",
       "        [0.14488406, 0.00454748],\n",
       "        [0.14488406, 0.00454748]])"
      ]
     },
     "execution_count": 55,
     "metadata": {},
     "output_type": "execute_result"
    }
   ],
   "source": [
    "H2 = gcn_layer(A_own, D_inv, H1, W2)\n",
    "H2"
   ]
  },
  {
   "cell_type": "code",
   "execution_count": 56,
   "metadata": {},
   "outputs": [],
   "source": [
    "output=H2"
   ]
  },
  {
   "cell_type": "code",
   "execution_count": 57,
   "metadata": {},
   "outputs": [],
   "source": [
    "feature_representations = {\n",
    "    node: np.array(output)[node] \n",
    "    for node in G.nodes()}"
   ]
  },
  {
   "cell_type": "code",
   "execution_count": 58,
   "metadata": {},
   "outputs": [
    {
     "data": {
      "text/plain": [
       "{0: array([0.04016574, 0.02001562]),\n",
       " 1: array([0.       , 0.0210504]),\n",
       " 2: array([0.08446047, 0.01909497]),\n",
       " 3: array([0.09808897, 0.00515136]),\n",
       " 4: array([0.14488406, 0.00454748]),\n",
       " 5: array([0.14488406, 0.00454748])}"
      ]
     },
     "execution_count": 58,
     "metadata": {},
     "output_type": "execute_result"
    }
   ],
   "source": [
    "feature_representations"
   ]
  },
  {
   "cell_type": "code",
   "execution_count": 59,
   "metadata": {},
   "outputs": [
    {
     "data": {
      "image/png": "[encoded data removed]",
      "text/plain": [
       "<Figure size 432x288 with 1 Axes>"
      ]
     },
     "metadata": {},
     "output_type": "display_data"
    }
   ],
   "source": [
    "test= nx.Graph()\n",
    "test.add_edges_from([(2,4), (2,5), (4,5)])\n",
    "nx.draw(test, with_labels=True)"
   ]
  },
  {
   "cell_type": "code",
   "execution_count": 67,
   "metadata": {},
   "outputs": [
    {
     "data": {
      "text/plain": [
       "[2, 4, 5]"
      ]
     },
     "execution_count": 67,
     "metadata": {},
     "output_type": "execute_result"
    }
   ],
   "source": [
    "test_order = sorted(list(test.nodes()))\n",
    "test_order"
   ]
  },
  {
   "cell_type": "code",
   "execution_count": 70,
   "metadata": {},
   "outputs": [
    {
     "data": {
      "text/plain": [
       "matrix([[0., 1., 1.],\n",
       "        [1., 0., 1.],\n",
       "        [1., 1., 0.]])"
      ]
     },
     "execution_count": 70,
     "metadata": {},
     "output_type": "execute_result"
    }
   ],
   "source": [
    "test_A = nx.to_numpy_matrix(test, nodelist=test_order)\n",
    "test_A"
   ]
  },
  {
   "cell_type": "code",
   "execution_count": 71,
   "metadata": {},
   "outputs": [
    {
     "data": {
      "text/plain": [
       "array([[1., 0., 0.],\n",
       "       [0., 1., 0.],\n",
       "       [0., 0., 1.]])"
      ]
     },
     "execution_count": 71,
     "metadata": {},
     "output_type": "execute_result"
    }
   ],
   "source": [
    "test_I = np.eye(test.number_of_nodes())\n",
    "test_I"
   ]
  },
  {
   "cell_type": "code",
   "execution_count": 72,
   "metadata": {},
   "outputs": [
    {
     "data": {
      "text/plain": [
       "matrix([[1., 1., 1.],\n",
       "        [1., 1., 1.],\n",
       "        [1., 1., 1.]])"
      ]
     },
     "execution_count": 72,
     "metadata": {},
     "output_type": "execute_result"
    }
   ],
   "source": [
    "test_A_own = test_A + test_I\n",
    "test_A_own"
   ]
  },
  {
   "cell_type": "code",
   "execution_count": 73,
   "metadata": {},
   "outputs": [
    {
     "data": {
      "text/plain": [
       "matrix([[0.57735027, 0.        , 0.        ],\n",
       "        [0.        , 0.57735027, 0.        ],\n",
       "        [0.        , 0.        , 0.57735027]])"
      ]
     },
     "execution_count": 73,
     "metadata": {},
     "output_type": "execute_result"
    }
   ],
   "source": [
    "test_D_own = np.array(np.sum(test_A_own, axis=0))[0]\n",
    "test_D_inv=test_D_own**(-.5)\n",
    "test_D_inv = np.matrix(np.diag(test_D_inv))\n",
    "test_D_inv"
   ]
  },
  {
   "cell_type": "code",
   "execution_count": 159,
   "metadata": {},
   "outputs": [
    {
     "data": {
      "text/plain": [
       "array([[ 0.03192133,  0.70703867, -0.79486053, -0.51620209],\n",
       "       [-0.2595944 , -0.16420365,  1.61585252,  0.52135619],\n",
       "       [-0.75318081, -1.18461652, -0.19966279, -0.40107537]])"
      ]
     },
     "execution_count": 159,
     "metadata": {},
     "output_type": "execute_result"
    }
   ],
   "source": [
    "test_W1=np.empty((len(test_order),W1.shape[1]))\n",
    "test_w1"
   ]
  },
  {
   "cell_type": "code",
   "execution_count": 160,
   "metadata": {},
   "outputs": [
    {
     "data": {
      "text/plain": [
       "array([[-0.54559275,  0.6106041 ,  1.37026692, -0.22941536],\n",
       "       [ 1.05377297, -2.58552321,  0.06561018,  0.67703962],\n",
       "       [ 0.69709112,  0.33707908, -1.11218523,  1.64483937]])"
      ]
     },
     "execution_count": 160,
     "metadata": {},
     "output_type": "execute_result"
    }
   ],
   "source": [
    "for i in range(len(test_order)):\n",
    "    for j in range(W1.shape[1]):\n",
    "        test_w1[i][j]=W1[test_order[i]][j]\n",
    "test_w1"
   ]
  },
  {
   "cell_type": "code",
   "execution_count": 161,
   "metadata": {},
   "outputs": [
    {
     "data": {
      "text/plain": [
       "matrix([[0.        , 0.        , 0.17148294, 0.01484078],\n",
       "        [0.        , 0.        , 0.17148294, 0.01484078],\n",
       "        [0.        , 0.        , 0.17148294, 0.01484078]])"
      ]
     },
     "execution_count": 161,
     "metadata": {},
     "output_type": "execute_result"
    }
   ],
   "source": [
    "test_H1= gcn_layer(test_A_own, test_D_inv, test_I, test_W1)\n",
    "test_H1"
   ]
  },
  {
   "cell_type": "code",
   "execution_count": 164,
   "metadata": {},
   "outputs": [
    {
     "data": {
      "text/plain": [
       "array([[ 0.29937744, -0.95346368],\n",
       "       [-0.3485587 ,  2.14120767],\n",
       "       [ 0.80471207,  0.37878627],\n",
       "       [-0.2748385 , -0.69065591]])"
      ]
     },
     "execution_count": 164,
     "metadata": {},
     "output_type": "execute_result"
    }
   ],
   "source": [
    "test_W2=W2\n",
    "test_W2"
   ]
  },
  {
   "cell_type": "code",
   "execution_count": 165,
   "metadata": {},
   "outputs": [
    {
     "data": {
      "text/plain": [
       "matrix([[0.13391557, 0.05470551],\n",
       "        [0.13391557, 0.05470551],\n",
       "        [0.13391557, 0.05470551]])"
      ]
     },
     "execution_count": 165,
     "metadata": {},
     "output_type": "execute_result"
    }
   ],
   "source": [
    "test_H2 = gcn_layer(test_A_own, test_D_inv, test_H1, test_W2)\n",
    "test_H2"
   ]
  },
  {
   "cell_type": "code",
   "execution_count": 172,
   "metadata": {},
   "outputs": [],
   "source": [
    "similarity_matrix=test_H2*H2.T"
   ]
  },
  {
   "cell_type": "code",
   "execution_count": 173,
   "metadata": {},
   "outputs": [
    {
     "name": "stdout",
     "output_type": "stream",
     "text": [
      "[2 4 5]\n",
      "[0. 0. 0.]\n"
     ]
    }
   ],
   "source": [
    "actual_node = np.array(sorted(list(test.nodes())))\n",
    "print(actual_node)\n",
    "predicted_node=np.zeros(len(actual_node))\n",
    "print(predicted_node)"
   ]
  },
  {
   "cell_type": "code",
   "execution_count": 174,
   "metadata": {},
   "outputs": [],
   "source": [
    "def maxelement(arr,p): \n",
    "    # get number of rows and columns \n",
    "    no_of_rows = len(arr) \n",
    "    no_of_column = len(arr[0]) \n",
    "    for i in range(no_of_rows):   \n",
    "        # Initialize max1 to 0 at beginning \n",
    "        # of finding max element of each row \n",
    "        max1 = 0\n",
    "        for j in range(no_of_column): \n",
    "            if arr[i][j] > max1 : \n",
    "                max1 = arr[i][j]\n",
    "                p[i]=j\n",
    "            #print(max1)\n",
    "            #print(predicted_node[i])\n",
    "    return p"
   ]
  },
  {
   "cell_type": "code",
   "execution_count": 176,
   "metadata": {},
   "outputs": [
    {
     "name": "stdout",
     "output_type": "stream",
     "text": [
      "actual node\n"
     ]
    },
    {
     "data": {
      "text/plain": [
       "array([2, 4, 5])"
      ]
     },
     "execution_count": 176,
     "metadata": {},
     "output_type": "execute_result"
    }
   ],
   "source": [
    "predicted_node=maxelement(np.array(similarity_matrix),predicted_node )\n",
    "print(\"actual node\")\n",
    "actual_node"
   ]
  },
  {
   "cell_type": "code",
   "execution_count": 177,
   "metadata": {},
   "outputs": [
    {
     "name": "stdout",
     "output_type": "stream",
     "text": [
      "predicted node\n"
     ]
    },
    {
     "data": {
      "text/plain": [
       "array([4., 4., 4.])"
      ]
     },
     "execution_count": 177,
     "metadata": {},
     "output_type": "execute_result"
    }
   ],
   "source": [
    "print(\"predicted node\")\n",
    "predicted_node"
   ]
  },
  {
   "cell_type": "code",
   "execution_count": null,
   "metadata": {},
   "outputs": [],
   "source": []
  }
 ],
 "metadata": {
  "kernelspec": {
   "display_name": "Python 3",
   "language": "python",
   "name": "python3"
  },
  "language_info": {
   "codemirror_mode": {
    "name": "ipython",
    "version": 3
   },
   "file_extension": ".py",
   "mimetype": "text/x-python",
   "name": "python",
   "nbconvert_exporter": "python",
   "pygments_lexer": "ipython3",
   "version": "3.7.4"
  }
 },
 "nbformat": 4,
 "nbformat_minor": 2
}
