{
 "cells": [
  {
   "cell_type": "code",
   "execution_count": 1,
   "metadata": {},
   "outputs": [],
   "source": [
    "from neo4j import GraphDatabase, basic_auth\n",
    "graphdb=GraphDatabase.driver(uri=\"bolt://localhost:7687\",auth=basic_auth(\"neo4j\",\"9luoofrq\"),encrypted = False)\n",
    "session=graphdb.session()"
   ]
  },
  {
   "cell_type": "code",
   "execution_count": 2,
   "metadata": {},
   "outputs": [
    {
     "name": "stdout",
     "output_type": "stream",
     "text": [
      "<Record n=<Node id=0 labels={'Player'} properties={'name': 'Ronaldo'}>>\n",
      "<Record n=<Node id=1 labels={'Player'} properties={'name': 'Messi'}>>\n",
      "<Record n=<Node id=2 labels={'Player'} properties={'name': 'Meradona'}>>\n",
      "<Record n=<Node id=3 labels={'Team'} properties={'name': 'Portugal'}>>\n",
      "<Record n=<Node id=4 labels={'Team'} properties={'name': 'RealMadrid'}>>\n",
      "<Record n=<Node id=5 labels={'Team'} properties={'name': 'Argentina'}>>\n"
     ]
    }
   ],
   "source": [
    "#return nodes\n",
    "q1='''Match (n) Return (n)'''\n",
    "result=session.run(q1)\n",
    "for i in result:\n",
    "    print(i)"
   ]
  },
  {
   "cell_type": "code",
   "execution_count": 3,
   "metadata": {},
   "outputs": [
    {
     "name": "stdout",
     "output_type": "stream",
     "text": [
      "<Record Type(R)='Played_for'>\n",
      "<Record Type(R)='Played_for'>\n",
      "<Record Type(R)='Played_for'>\n",
      "<Record Type(R)='Played_for'>\n"
     ]
    }
   ],
   "source": [
    "#Return Relationship\n",
    "q1='''match (A:Player)-[R]->(B:Team)\n",
    "return Type(R)'''\n",
    "result=session.run(q1)\n",
    "for i in result:\n",
    "    print(i)"
   ]
  },
  {
   "cell_type": "code",
   "execution_count": 5,
   "metadata": {},
   "outputs": [
    {
     "name": "stdout",
     "output_type": "stream",
     "text": [
      "<Record A.name='Ronaldo'>\n",
      "<Record A.name='Messi'>\n",
      "<Record A.name='Meradona'>\n"
     ]
    }
   ],
   "source": [
    "#Return properties\n",
    "q1='''match (A:Player)\n",
    "return A.name'''\n",
    "result=session.run(q1)\n",
    "for i in result:\n",
    "    print(i)"
   ]
  },
  {
   "cell_type": "code",
   "execution_count": 6,
   "metadata": {},
   "outputs": [
    {
     "name": "stdout",
     "output_type": "stream",
     "text": [
      "<Record M=<Node id=0 labels={'Player'} properties={'name': 'Ronaldo'}> N=<Node id=4 labels={'Team'} properties={'name': 'RealMadrid'}> R=<Relationship id=1 nodes=(<Node id=0 labels={'Player'} properties={'name': 'Ronaldo'}>, <Node id=4 labels={'Team'} properties={'name': 'RealMadrid'}>) type='Played_for' properties={}>>\n",
      "<Record M=<Node id=0 labels={'Player'} properties={'name': 'Ronaldo'}> N=<Node id=3 labels={'Team'} properties={'name': 'Portugal'}> R=<Relationship id=0 nodes=(<Node id=0 labels={'Player'} properties={'name': 'Ronaldo'}>, <Node id=3 labels={'Team'} properties={'name': 'Portugal'}>) type='Played_for' properties={}>>\n",
      "<Record M=<Node id=1 labels={'Player'} properties={'name': 'Messi'}> N=<Node id=5 labels={'Team'} properties={'name': 'Argentina'}> R=<Relationship id=2 nodes=(<Node id=1 labels={'Player'} properties={'name': 'Messi'}>, <Node id=5 labels={'Team'} properties={'name': 'Argentina'}>) type='Played_for' properties={}>>\n",
      "<Record M=<Node id=2 labels={'Player'} properties={'name': 'Meradona'}> N=<Node id=5 labels={'Team'} properties={'name': 'Argentina'}> R=<Relationship id=3 nodes=(<Node id=2 labels={'Player'} properties={'name': 'Meradona'}>, <Node id=5 labels={'Team'} properties={'name': 'Argentina'}>) type='Played_for' properties={}>>\n"
     ]
    }
   ],
   "source": [
    "#Return all elements\n",
    "q1='''Match (M)-[R]->(N)\n",
    "Return *'''\n",
    "result=session.run(q1)\n",
    "for i in result:\n",
    "    print(i)"
   ]
  },
  {
   "cell_type": "code",
   "execution_count": 7,
   "metadata": {},
   "outputs": [
    {
     "name": "stdout",
     "output_type": "stream",
     "text": [
      "<Record n.name='Portugal'>\n",
      "<Record n.name='RealMadrid'>\n",
      "<Record n.name='Argentina'>\n"
     ]
    }
   ],
   "source": [
    "#Return with where\n",
    "q1='''Match (n)\n",
    "where n:Team\n",
    "Return n.name'''\n",
    "result=session.run(q1)\n",
    "for i in result:\n",
    "    print(i)"
   ]
  },
  {
   "cell_type": "code",
   "execution_count": 8,
   "metadata": {},
   "outputs": [
    {
     "name": "stdout",
     "output_type": "stream",
     "text": [
      "<Record R=False>\n",
      "<Record R=True>\n"
     ]
    }
   ],
   "source": [
    "#Return with list\n",
    "q1='''Match (A:Player{name:\"Ronaldo\"})\n",
    "Unwind [(A)-->(B) where B:Team|B.name] as Teams\n",
    "With Teams \n",
    "Return Teams in [\"Argentina\",\"Brazil\",\"Portugal\"] as R'''\n",
    "result=session.run(q1)\n",
    "for i in result:\n",
    "    print(i)"
   ]
  },
  {
   "cell_type": "code",
   "execution_count": 9,
   "metadata": {},
   "outputs": [
    {
     "name": "stdout",
     "output_type": "stream",
     "text": [
      "<Record count(N)=6>\n"
     ]
    }
   ],
   "source": [
    "#Return with count\n",
    "\n",
    "q1='''Match (N)\n",
    "Return count(N)'''\n",
    "result=session.run(q1)\n",
    "for i in result:\n",
    "    print(i)"
   ]
  },
  {
   "cell_type": "code",
   "execution_count": null,
   "metadata": {},
   "outputs": [],
   "source": []
  }
 ],
 "metadata": {
  "kernelspec": {
   "display_name": "Python 3",
   "language": "python",
   "name": "python3"
  },
  "language_info": {
   "codemirror_mode": {
    "name": "ipython",
    "version": 3
   },
   "file_extension": ".py",
   "mimetype": "text/x-python",
   "name": "python",
   "nbconvert_exporter": "python",
   "pygments_lexer": "ipython3",
   "version": "3.7.4"
  }
 },
 "nbformat": 4,
 "nbformat_minor": 2
}
