{
 "cells": [
  {
   "cell_type": "code",
   "execution_count": 1,
   "metadata": {},
   "outputs": [],
   "source": [
    "from neo4j import GraphDatabase, basic_auth\n",
    "graphdb=GraphDatabase.driver(uri=\"bolt://localhost:7687\",auth=basic_auth(\"neo4j\",\"9luoofrq\"),encrypted = False)\n",
    "session=graphdb.session()"
   ]
  },
  {
   "cell_type": "code",
   "execution_count": 2,
   "metadata": {},
   "outputs": [
    {
     "name": "stdout",
     "output_type": "stream",
     "text": [
      "<Record n=<Node id=0 labels={'Player'} properties={'name': 'Ronaldo'}>>\n",
      "<Record n=<Node id=1 labels={'Player'} properties={'name': 'Messi'}>>\n",
      "<Record n=<Node id=2 labels={'Player'} properties={'name': 'Meradona'}>>\n",
      "<Record n=<Node id=3 labels={'Team'} properties={'name': 'Portugal'}>>\n",
      "<Record n=<Node id=4 labels={'Team'} properties={'name': 'RealMadrid'}>>\n",
      "<Record n=<Node id=5 labels={'Team'} properties={'name': 'Argentina'}>>\n"
     ]
    }
   ],
   "source": [
    "q1='''Match (n) Return (n)'''\n",
    "result=session.run(q1)\n",
    "for i in result:\n",
    "    print(i)"
   ]
  },
  {
   "cell_type": "code",
   "execution_count": 3,
   "metadata": {},
   "outputs": [],
   "source": [
    "q1='''Match (n) Delete (n)'''\n",
    "result=session.run(q1)\n",
    "for i in result:\n",
    "    print(i)"
   ]
  },
  {
   "cell_type": "code",
   "execution_count": 4,
   "metadata": {},
   "outputs": [
    {
     "data": {
      "text/plain": [
       "<neo4j.BoltStatementResult at 0x21adf38f4c8>"
      ]
     },
     "execution_count": 4,
     "metadata": {},
     "output_type": "execute_result"
    }
   ],
   "source": [
    "q1='''Create (Rony:Player {name:'Rony'}),(Mony:Player {name:'Mony'}),(Sony:Player {name:'Sony'}), \n",
    "            (Tony:Player {name:'Tony'}),(Nony:Player {name:'Nony'}),(Pony:Player {name:'Pony'}), \n",
    "            (Rony)-[:is_friend_of]->(Mony),(Rony)-[:is_friend_of]->(Tony), (Rony)-[:is_friend_of]->(Pony),\n",
    "            (Mony)-[:is_friend_of]->(Sony), \n",
    "            (Tony)-[:is_friend_of]->(Nony),\n",
    "            (Pony)-[:is_friend_of]->(Nony)\n",
    "            '''\n",
    "session.run(q1)"
   ]
  },
  {
   "cell_type": "code",
   "execution_count": 6,
   "metadata": {},
   "outputs": [
    {
     "name": "stdout",
     "output_type": "stream",
     "text": [
      "<Record a=<Node id=0 labels={'Player'} properties={'name': 'Rony'}> b=<Node id=1 labels={'Player'} properties={'name': 'Mony'}> c=<Node id=2 labels={'Player'} properties={'name': 'Sony'}>>\n",
      "<Record a=<Node id=0 labels={'Player'} properties={'name': 'Rony'}> b=<Node id=3 labels={'Player'} properties={'name': 'Tony'}> c=<Node id=4 labels={'Player'} properties={'name': 'Nony'}>>\n",
      "<Record a=<Node id=0 labels={'Player'} properties={'name': 'Rony'}> b=<Node id=5 labels={'Player'} properties={'name': 'Pony'}> c=<Node id=4 labels={'Player'} properties={'name': 'Nony'}>>\n"
     ]
    }
   ],
   "source": [
    "q1='''Match (a)-->(b)-->(c)\n",
    "return a,b,c'''\n",
    "result=session.run(q1)\n",
    "for i in result:\n",
    "    print(i)"
   ]
  },
  {
   "cell_type": "code",
   "execution_count": 11,
   "metadata": {},
   "outputs": [
    {
     "name": "stdout",
     "output_type": "stream",
     "text": [
      "6\n"
     ]
    }
   ],
   "source": [
    "#relationship exit\n",
    "q1='''Match (a)-[]->(b)\n",
    "return a,b'''\n",
    "result=list(session.run(q1))\n",
    "print(len(result))\n"
   ]
  },
  {
   "cell_type": "code",
   "execution_count": 13,
   "metadata": {},
   "outputs": [],
   "source": [
    "q1='''Match (n) Detach Delete (n)'''\n",
    "result=session.run(q1)\n",
    "for i in result:\n",
    "    print(i)"
   ]
  },
  {
   "cell_type": "code",
   "execution_count": 16,
   "metadata": {},
   "outputs": [
    {
     "data": {
      "text/plain": [
       "<neo4j.BoltStatementResult at 0x21addbffc88>"
      ]
     },
     "execution_count": 16,
     "metadata": {},
     "output_type": "execute_result"
    }
   ],
   "source": [
    "q1='''Create (Ronaldo:Player {name:'Ronaldo'}),(Messi:Player {name:'Messi'}),(Meradona:Player {name:'Meradona'}), \n",
    "            (Portugal:Team {name:'Portugal'}),(RealMadrid:Team {name:'RealMadrid'}),(Argentina:Team {name:'Argentina'}), \n",
    "            (Ronaldo)-[:Played_for]->(Portugal),(Ronaldo)-[:Played_for]->(RealMadrid), (Messi)-[:Played_for]->(Argentina),\n",
    "            (Meradona)-[:Played_for]->(Argentina)\n",
    "            '''\n",
    "session.run(q1)"
   ]
  },
  {
   "cell_type": "code",
   "execution_count": 4,
   "metadata": {},
   "outputs": [
    {
     "name": "stdout",
     "output_type": "stream",
     "text": [
      "<Record Result=['Argentina']>\n"
     ]
    }
   ],
   "source": [
    "# finding relationship\n",
    "q1='''match (A:Player{name:\"Messi\"})\n",
    "return [(A)--(B) where B:Team|B.name] as Result'''\n",
    "result=session.run(q1)\n",
    "for i in result:\n",
    "    print(i)"
   ]
  }
 ],
 "metadata": {
  "kernelspec": {
   "display_name": "Python 3",
   "language": "python",
   "name": "python3"
  },
  "language_info": {
   "codemirror_mode": {
    "name": "ipython",
    "version": 3
   },
   "file_extension": ".py",
   "mimetype": "text/x-python",
   "name": "python",
   "nbconvert_exporter": "python",
   "pygments_lexer": "ipython3",
   "version": "3.7.4"
  }
 },
 "nbformat": 4,
 "nbformat_minor": 2
}
