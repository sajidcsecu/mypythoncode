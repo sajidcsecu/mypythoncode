{
 "cells": [
  {
   "cell_type": "code",
   "execution_count": 37,
   "metadata": {},
   "outputs": [],
   "source": [
    "# Imports\n",
    "import numpy as np \n",
    "import networkx as nx\n",
    "from random import seed\n",
    "import math\n",
    "from networkx import karate_club_graph, to_numpy_matrix"
   ]
  },
  {
   "cell_type": "code",
   "execution_count": 38,
   "metadata": {},
   "outputs": [],
   "source": [
    "def computematrixes (G):\n",
    "    order = sorted(list(G.nodes()))\n",
    "    A = nx.to_numpy_matrix(G, nodelist=order)\n",
    "    I = np.eye(G.number_of_nodes())\n",
    "    A_own = A + I\n",
    "    D_own = np.array(np.sum(A_own, axis=0))[0]\n",
    "    D_inv=D_own**(-.5)\n",
    "    D_inv = np.matrix(np.diag(D_inv))\n",
    "    return A_own,D_inv,I"
   ]
  },
  {
   "cell_type": "code",
   "execution_count": 39,
   "metadata": {},
   "outputs": [],
   "source": [
    "def gcn_layer(A, D, X, W):\n",
    "    feature=D * A * D * X * W\n",
    "    feature=1 / (1 + np.exp(-feature))\n",
    "    return feature"
   ]
  },
  {
   "cell_type": "code",
   "execution_count": 40,
   "metadata": {},
   "outputs": [
    {
     "data": {
      "image/png": "[encoded data removed]",
      "text/plain": [
       "<Figure size 432x288 with 1 Axes>"
      ]
     },
     "metadata": {},
     "output_type": "display_data"
    }
   ],
   "source": [
    "G= nx.Graph()\n",
    "G.add_edges_from([(0,1), (0,2), (0,3), (1,2), (2,4), (2,5), (4,5)])\n",
    "nx.draw(G, with_labels=True)"
   ]
  },
  {
   "cell_type": "code",
   "execution_count": 84,
   "metadata": {},
   "outputs": [],
   "source": [
    "seed(1)\n",
    "W1 = np.random.normal(loc=0, scale=1, size=(G.number_of_nodes(), 4))\n",
    "seed(1)\n",
    "W2 = np.random.normal(loc=0, size=(G.number_of_nodes(), 2))"
   ]
  },
  {
   "cell_type": "code",
   "execution_count": 85,
   "metadata": {},
   "outputs": [
    {
     "data": {
      "text/plain": [
       "array([[ 0.03503221, -0.75716936],\n",
       "       [-0.49626827, -1.6050127 ],\n",
       "       [-1.28556288,  0.52312935],\n",
       "       [ 0.77064024, -0.15381939],\n",
       "       [ 0.34996344, -0.55389213],\n",
       "       [-0.51055306, -0.80791356]])"
      ]
     },
     "execution_count": 85,
     "metadata": {},
     "output_type": "execute_result"
    }
   ],
   "source": [
    "W2"
   ]
  },
  {
   "cell_type": "code",
   "execution_count": 86,
   "metadata": {},
   "outputs": [
    {
     "name": "stdout",
     "output_type": "stream",
     "text": [
      "Spectrum\n",
      "[[0.25       0.28867513 0.2236068  0.35355339 0.         0.        ]\n",
      " [0.28867513 0.33333333 0.25819889 0.         0.         0.        ]\n",
      " [0.2236068  0.25819889 0.2        0.         0.25819889 0.25819889]\n",
      " [0.35355339 0.         0.         0.5        0.         0.        ]\n",
      " [0.         0.         0.25819889 0.         0.33333333 0.33333333]\n",
      " [0.         0.         0.25819889 0.         0.33333333 0.33333333]]\n",
      "Identity Matrix\n",
      "[[1. 0. 0. 0. 0. 0.]\n",
      " [0. 1. 0. 0. 0. 0.]\n",
      " [0. 0. 1. 0. 0. 0.]\n",
      " [0. 0. 0. 1. 0. 0.]\n",
      " [0. 0. 0. 0. 1. 0.]\n",
      " [0. 0. 0. 0. 0. 1.]]\n",
      "weights1\n",
      "[[ 2.07786243  0.93026003 -0.71996688 -0.28269051]\n",
      " [ 1.62896648  2.16257571 -1.1321897   0.45725962]\n",
      " [-0.1713859  -0.88456459 -0.5621049   0.58984818]\n",
      " [-1.46189167  0.75934379 -1.22048884 -1.25474006]\n",
      " [ 1.20333429  0.03770989  0.17461709 -0.73648205]\n",
      " [ 1.45848852 -0.23183638 -0.47486232  0.22877852]]\n",
      "Spectrum * Identity * Weights\n",
      "[[ 0.43452792  0.92752076 -1.06402518 -0.25039668]\n",
      " [ 1.0985644   0.76100792 -0.73036796  0.2231123 ]\n",
      " [ 1.53822402  0.53935095 -0.64326358  0.04173355]\n",
      " [ 0.00368947  0.70856848 -0.86479115 -0.72731622]\n",
      " [ 0.84302262 -0.29310243 -0.2452166  -0.01693636]\n",
      " [ 0.84302262 -0.29310243 -0.2452166  -0.01693636]]\n",
      "First Layer\n",
      "[[0.60695437 0.71657203 0.25654099 0.43772586]\n",
      " [0.74999102 0.68157252 0.32511399 0.55554784]\n",
      " [0.8232064  0.63166142 0.34450918 0.51043187]\n",
      " [0.50092237 0.67008477 0.29633931 0.32578394]\n",
      " [0.69910143 0.42724451 0.4390012  0.49576601]\n",
      " [0.69910143 0.42724451 0.4390012  0.49576601]]\n"
     ]
    }
   ],
   "source": [
    "A_own,D_inv,I= computematrixes (G)\n",
    "H1 = gcn_layer(A_own, D_inv, I, W1)\n",
    "spectrum=D_inv * A_own * D_inv\n",
    "print(\"Spectrum\")\n",
    "print(spectrum)\n",
    "print(\"Identity Matrix\")\n",
    "print(I)\n",
    "print(\"weights1\")\n",
    "print(W1)\n",
    "print(\"Spectrum * Identity * Weights\")\n",
    "print(spectrum * I * W1)\n",
    "print(\"First Layer\")\n",
    "print(H1)"
   ]
  },
  {
   "cell_type": "code",
   "execution_count": 87,
   "metadata": {},
   "outputs": [
    {
     "name": "stdout",
     "output_type": "stream",
     "text": [
      "Spectrum\n",
      "[[0.25       0.28867513 0.2236068  0.35355339 0.         0.        ]\n",
      " [0.28867513 0.33333333 0.25819889 0.         0.         0.        ]\n",
      " [0.2236068  0.25819889 0.2        0.         0.25819889 0.25819889]\n",
      " [0.35355339 0.         0.         0.5        0.         0.        ]\n",
      " [0.         0.         0.25819889 0.         0.33333333 0.33333333]\n",
      " [0.         0.         0.25819889 0.         0.33333333 0.33333333]]\n",
      "First Layer\n",
      "[[0.60695437 0.71657203 0.25654099 0.43772586]\n",
      " [0.74999102 0.68157252 0.32511399 0.55554784]\n",
      " [0.8232064  0.63166142 0.34450918 0.51043187]\n",
      " [0.50092237 0.67008477 0.29633931 0.32578394]\n",
      " [0.69910143 0.42724451 0.4390012  0.49576601]\n",
      " [0.69910143 0.42724451 0.4390012  0.49576601]]\n",
      "Spectrum * First Layer\n",
      "[[0.7294197  0.75405058 0.33979393 0.49912237]\n",
      " [0.63776062 0.59714165 0.27138022 0.44333613]\n",
      " [0.85502168 0.68317205 0.43690946 0.59941916]\n",
      " [0.46505196 0.58838886 0.23887059 0.31765143]\n",
      " [0.6786186  0.44792395 0.38161936 0.46230362]\n",
      " [0.6786186  0.44792395 0.38161936 0.46230362]]\n",
      "weights2\n",
      "[[ 0.03503221 -0.75716936]\n",
      " [-0.49626827 -1.6050127 ]\n",
      " [-1.28556288  0.52312935]\n",
      " [ 0.77064024 -0.15381939]\n",
      " [ 0.34996344 -0.55389213]\n",
      " [-0.51055306 -0.80791356]]\n",
      "Second Layer\n",
      "[[0.28443575 0.78200484]\n",
      " [0.33148704 0.72009281]\n",
      " [0.28611692 0.75771416]\n",
      " [0.32748937 0.74083956]\n",
      " [0.33577372 0.68955953]\n",
      " [0.33577372 0.68955953]]\n"
     ]
    }
   ],
   "source": [
    "#H2 = gcn_layer(A_own, D_inv, H1, W2)\n",
    "spectrum=D_inv * A_own * D_inv\n",
    "print(\"Spectrum\")\n",
    "print(spectrum)\n",
    "print(\"First Layer\")\n",
    "print(H1)\n",
    "print(\"Spectrum * First Layer\")\n",
    "print(spectrum * H1 )\n",
    "print(\"weights2\")\n",
    "print(W2)\n",
    "print(\"Second Layer\")\n",
    "print(H2)"
   ]
  },
  {
   "cell_type": "code",
   "execution_count": 63,
   "metadata": {},
   "outputs": [
    {
     "ename": "ValueError",
     "evalue": "shapes (6,4) and (6,4) not aligned: 4 (dim 1) != 6 (dim 0)",
     "output_type": "error",
     "traceback": [
      "\u001b[1;31m---------------------------------------------------------------------------\u001b[0m",
      "\u001b[1;31mValueError\u001b[0m                                Traceback (most recent call last)",
      "\u001b[1;32m<ipython-input-63-c7af052cecc1>\u001b[0m in \u001b[0;36m<module>\u001b[1;34m\u001b[0m\n\u001b[1;32m----> 1\u001b[1;33m \u001b[0moutput\u001b[0m \u001b[1;33m=\u001b[0m \u001b[0mgcn_layer\u001b[0m\u001b[1;33m(\u001b[0m\u001b[0mA_own\u001b[0m\u001b[1;33m,\u001b[0m \u001b[0mD_inv\u001b[0m\u001b[1;33m,\u001b[0m \u001b[0mnp\u001b[0m\u001b[1;33m.\u001b[0m\u001b[0marray\u001b[0m\u001b[1;33m(\u001b[0m\u001b[0mH1\u001b[0m\u001b[1;33m)\u001b[0m\u001b[1;33m,\u001b[0m \u001b[0mW2\u001b[0m\u001b[1;33m)\u001b[0m\u001b[1;33m\u001b[0m\u001b[1;33m\u001b[0m\u001b[0m\n\u001b[0m",
      "\u001b[1;32m<ipython-input-39-78f62db89bd1>\u001b[0m in \u001b[0;36mgcn_layer\u001b[1;34m(A, D, X, W)\u001b[0m\n\u001b[0;32m      1\u001b[0m \u001b[1;32mdef\u001b[0m \u001b[0mgcn_layer\u001b[0m\u001b[1;33m(\u001b[0m\u001b[0mA\u001b[0m\u001b[1;33m,\u001b[0m \u001b[0mD\u001b[0m\u001b[1;33m,\u001b[0m \u001b[0mX\u001b[0m\u001b[1;33m,\u001b[0m \u001b[0mW\u001b[0m\u001b[1;33m)\u001b[0m\u001b[1;33m:\u001b[0m\u001b[1;33m\u001b[0m\u001b[1;33m\u001b[0m\u001b[0m\n\u001b[1;32m----> 2\u001b[1;33m     \u001b[0mfeature\u001b[0m\u001b[1;33m=\u001b[0m\u001b[0mD\u001b[0m \u001b[1;33m*\u001b[0m \u001b[0mA\u001b[0m \u001b[1;33m*\u001b[0m \u001b[0mD\u001b[0m \u001b[1;33m*\u001b[0m \u001b[0mX\u001b[0m \u001b[1;33m*\u001b[0m \u001b[0mW\u001b[0m\u001b[1;33m\u001b[0m\u001b[1;33m\u001b[0m\u001b[0m\n\u001b[0m\u001b[0;32m      3\u001b[0m     \u001b[0mfeature\u001b[0m\u001b[1;33m=\u001b[0m\u001b[1;36m1\u001b[0m \u001b[1;33m/\u001b[0m \u001b[1;33m(\u001b[0m\u001b[1;36m1\u001b[0m \u001b[1;33m+\u001b[0m \u001b[0mnp\u001b[0m\u001b[1;33m.\u001b[0m\u001b[0mexp\u001b[0m\u001b[1;33m(\u001b[0m\u001b[1;33m-\u001b[0m\u001b[0mfeature\u001b[0m\u001b[1;33m)\u001b[0m\u001b[1;33m)\u001b[0m\u001b[1;33m\u001b[0m\u001b[1;33m\u001b[0m\u001b[0m\n\u001b[0;32m      4\u001b[0m     \u001b[1;32mreturn\u001b[0m \u001b[0mfeature\u001b[0m\u001b[1;33m\u001b[0m\u001b[1;33m\u001b[0m\u001b[0m\n",
      "\u001b[1;32mC:\\ProgramData\\Anaconda3\\lib\\site-packages\\numpy\\matrixlib\\defmatrix.py\u001b[0m in \u001b[0;36m__mul__\u001b[1;34m(self, other)\u001b[0m\n\u001b[0;32m    218\u001b[0m         \u001b[1;32mif\u001b[0m \u001b[0misinstance\u001b[0m\u001b[1;33m(\u001b[0m\u001b[0mother\u001b[0m\u001b[1;33m,\u001b[0m \u001b[1;33m(\u001b[0m\u001b[0mN\u001b[0m\u001b[1;33m.\u001b[0m\u001b[0mndarray\u001b[0m\u001b[1;33m,\u001b[0m \u001b[0mlist\u001b[0m\u001b[1;33m,\u001b[0m \u001b[0mtuple\u001b[0m\u001b[1;33m)\u001b[0m\u001b[1;33m)\u001b[0m \u001b[1;33m:\u001b[0m\u001b[1;33m\u001b[0m\u001b[1;33m\u001b[0m\u001b[0m\n\u001b[0;32m    219\u001b[0m             \u001b[1;31m# This promotes 1-D vectors to row vectors\u001b[0m\u001b[1;33m\u001b[0m\u001b[1;33m\u001b[0m\u001b[1;33m\u001b[0m\u001b[0m\n\u001b[1;32m--> 220\u001b[1;33m             \u001b[1;32mreturn\u001b[0m \u001b[0mN\u001b[0m\u001b[1;33m.\u001b[0m\u001b[0mdot\u001b[0m\u001b[1;33m(\u001b[0m\u001b[0mself\u001b[0m\u001b[1;33m,\u001b[0m \u001b[0masmatrix\u001b[0m\u001b[1;33m(\u001b[0m\u001b[0mother\u001b[0m\u001b[1;33m)\u001b[0m\u001b[1;33m)\u001b[0m\u001b[1;33m\u001b[0m\u001b[1;33m\u001b[0m\u001b[0m\n\u001b[0m\u001b[0;32m    221\u001b[0m         \u001b[1;32mif\u001b[0m \u001b[0misscalar\u001b[0m\u001b[1;33m(\u001b[0m\u001b[0mother\u001b[0m\u001b[1;33m)\u001b[0m \u001b[1;32mor\u001b[0m \u001b[1;32mnot\u001b[0m \u001b[0mhasattr\u001b[0m\u001b[1;33m(\u001b[0m\u001b[0mother\u001b[0m\u001b[1;33m,\u001b[0m \u001b[1;34m'__rmul__'\u001b[0m\u001b[1;33m)\u001b[0m \u001b[1;33m:\u001b[0m\u001b[1;33m\u001b[0m\u001b[1;33m\u001b[0m\u001b[0m\n\u001b[0;32m    222\u001b[0m             \u001b[1;32mreturn\u001b[0m \u001b[0mN\u001b[0m\u001b[1;33m.\u001b[0m\u001b[0mdot\u001b[0m\u001b[1;33m(\u001b[0m\u001b[0mself\u001b[0m\u001b[1;33m,\u001b[0m \u001b[0mother\u001b[0m\u001b[1;33m)\u001b[0m\u001b[1;33m\u001b[0m\u001b[1;33m\u001b[0m\u001b[0m\n",
      "\u001b[1;31mValueError\u001b[0m: shapes (6,4) and (6,4) not aligned: 4 (dim 1) != 6 (dim 0)"
     ]
    }
   ],
   "source": [
    "output = gcn_layer(A_own, D_inv, H1, W2)"
   ]
  },
  {
   "cell_type": "code",
   "execution_count": 43,
   "metadata": {},
   "outputs": [],
   "source": [
    "def sigmoid(x):\n",
    "        return 1/(1+np.exp(-x))\n",
    "    \n",
    "    # Derivative of sigmoid\n",
    "def sigmoid_derivative(x):\n",
    "        return (x * (1 - x)) "
   ]
  },
  {
   "cell_type": "code",
   "execution_count": 46,
   "metadata": {},
   "outputs": [
    {
     "name": "stdout",
     "output_type": "stream",
     "text": [
      "target output\n",
      "[[1. 1.]\n",
      " [1. 1.]\n",
      " [1. 1.]\n",
      " [1. 1.]\n",
      " [1. 1.]\n",
      " [1. 1.]]\n",
      "Actual output\n",
      "[[0.8495483  0.43892188]\n",
      " [0.78033599 0.46575014]\n",
      " [0.85712688 0.44461169]\n",
      " [0.81052827 0.43523161]\n",
      " [0.80714825 0.4515019 ]\n",
      " [0.80714825 0.4515019 ]]\n"
     ]
    }
   ],
   "source": [
    "target_output = np.ones([W1.shape[0],W2.shape[1]])\n",
    "print(\"target output\")\n",
    "print(target_output)\n",
    "print(\"Actual output\")\n",
    "print(output)"
   ]
  },
  {
   "cell_type": "code",
   "execution_count": 52,
   "metadata": {},
   "outputs": [
    {
     "data": {
      "text/plain": [
       "matrix([[-0.3009034 , -1.12215625],\n",
       "        [-0.43932802, -1.06849973],\n",
       "        [-0.28574624, -1.11077661],\n",
       "        [-0.37894346, -1.12953678],\n",
       "        [-0.38570351, -1.09699621],\n",
       "        [-0.38570351, -1.09699621]])"
      ]
     },
     "execution_count": 52,
     "metadata": {},
     "output_type": "execute_result"
    }
   ],
   "source": [
    "f1=2*(target_output-output)*(-1)\n",
    "f1"
   ]
  },
  {
   "cell_type": "code",
   "execution_count": 53,
   "metadata": {},
   "outputs": [
    {
     "data": {
      "text/plain": [
       "array([[0.12781599, 0.24626946],\n",
       "       [0.17141173, 0.24882695],\n",
       "       [0.12246039, 0.24693214],\n",
       "       [0.15357219, 0.24580506],\n",
       "       [0.15565996, 0.24764793],\n",
       "       [0.15565996, 0.24764793]])"
      ]
     },
     "execution_count": 53,
     "metadata": {},
     "output_type": "execute_result"
    }
   ],
   "source": [
    "s1=sigmoid_derivative(np.array(output))\n",
    "s1"
   ]
  },
  {
   "cell_type": "code",
   "execution_count": 55,
   "metadata": {},
   "outputs": [
    {
     "data": {
      "text/plain": [
       "array([[-0.03846027, -0.27635282],\n",
       "       [-0.07530598, -0.26587153],\n",
       "       [-0.0349926 , -0.27428644],\n",
       "       [-0.05819518, -0.27764585],\n",
       "       [-0.06003859, -0.27166884],\n",
       "       [-0.06003859, -0.27166884]])"
      ]
     },
     "execution_count": 55,
     "metadata": {},
     "output_type": "execute_result"
    }
   ],
   "source": [
    "fs1=s1*np.array(f1)\n",
    "fs1"
   ]
  },
  {
   "cell_type": "code",
   "execution_count": 56,
   "metadata": {},
   "outputs": [
    {
     "data": {
      "text/plain": [
       "matrix([[0.62968868, 0.34368451, 0.2636739 , 0.66059025],\n",
       "        [0.43329693, 0.30069268, 0.33928397, 0.67697469],\n",
       "        [0.55955805, 0.43123877, 0.24032211, 0.65101271],\n",
       "        [0.7293194 , 0.53490311, 0.40082797, 0.59376795],\n",
       "        [0.59520769, 0.54821128, 0.25105592, 0.59812555],\n",
       "        [0.59520769, 0.54821128, 0.25105592, 0.59812555]])"
      ]
     },
     "execution_count": 56,
     "metadata": {},
     "output_type": "execute_result"
    }
   ],
   "source": [
    "np.array(H1)"
   ]
  },
  {
   "cell_type": "code",
   "execution_count": 93,
   "metadata": {},
   "outputs": [],
   "source": [
    "class GCN:\n",
    "    def __init__(self, G):\n",
    "        self.G = G\n",
    "        self.order = sorted(list(self.G.nodes()))\n",
    "        self.A = nx.to_numpy_matrix(self.G, nodelist=self.order)\n",
    "        self.I = np.eye(self.G.number_of_nodes())\n",
    "        self.A_own = self.A + self.I\n",
    "        self.D_own = np.array(np.sum(self.A_own, axis=0))[0]\n",
    "        self.weights1= np.random.rand(self.G.number_of_nodes(),4) # considering we have 4 nodes in the hidden layer\n",
    "        self.weights2 = np.random.rand(self.weights1.shape[1],2)\n",
    "        self.target_output = np.ones([self.G.number_of_nodes(),self.weights2.shape[1]])\n",
    "        self.output = np.zeros(self.target_output.shape)\n",
    "        \n",
    "    def view(self):\n",
    "        print(\"Graph\")\n",
    "        nx.draw(G, with_labels=True)\n",
    "        print(\"Weights1:\")\n",
    "        print(self.weights1)\n",
    "        print(\"-------------\")\n",
    "        print(\"Weights2:\")\n",
    "        print(self.weights2)\n",
    "        print(\"-------------\")\n",
    "        print(\"target output\")\n",
    "        print(self.target_output)\n",
    "        print(\"Predictive Output\")\n",
    "        print(self.output)\n",
    "    \n",
    "    # Activation function\n",
    "    def sigmoid(self, x):\n",
    "        return 1/(1+np.exp(-x))\n",
    "    \n",
    "    # Derivative of sigmoid\n",
    "    def sigmoid_derivative(self, x):\n",
    "        return (x * (1 - x))   \n",
    "    \n",
    "    def gcn_layer(self, A, D, X, W):\n",
    "        feature = D * A * D * X * W\n",
    "        feature = sigmoid(feature)\n",
    "        return feature\n",
    "    \n",
    "    #Feed Forward\n",
    "    def feedforward(self):\n",
    "        self.D_inv=self.D_own**(-.5)\n",
    "        #print(\"Degree array with -.5\")\n",
    "        #print(D_inv)\n",
    "        self.D_inv = np.matrix(np.diag(self.D_inv))\n",
    "        #print(\"Degree Matrix\")\n",
    "        #print(D_inv)\n",
    "        #print(D_inv*A_own)\n",
    "        #print(D_inv*A_own*D_inv)\n",
    "        self.layer1 = gcn_layer(self.A_own, self.D_inv, self.I, self.weights1)\n",
    "        print(\"layer1\")\n",
    "        print(self.layer1)\n",
    "        print(\"layer2\")\n",
    "        #print(D_inv*A_own*D_inv*self.layer1*self.weights2)\n",
    "        self.layer2 = gcn_layer(self.A_own, self.D_inv, self.layer1, self.weights2)\n",
    "        print(self.layer2)\n",
    "        return self.layer2\n",
    "    \n",
    "          \n",
    "    def train(self):\n",
    "            self.output = self.feedforward()"
   ]
  },
  {
   "cell_type": "code",
   "execution_count": 94,
   "metadata": {},
   "outputs": [
    {
     "name": "stdout",
     "output_type": "stream",
     "text": [
      "Graph\n",
      "Weights1:\n",
      "[[0.6243592  0.28627722 0.45307317 0.60205896]\n",
      " [0.98807947 0.8260592  0.36251259 0.52387098]\n",
      " [0.70097267 0.17851892 0.3948863  0.16230095]\n",
      " [0.68156517 0.12748911 0.93612413 0.46244708]\n",
      " [0.14056148 0.12671284 0.54572382 0.38184303]\n",
      " [0.42538233 0.88050414 0.91414471 0.15127019]]\n",
      "-------------\n",
      "Weights2:\n",
      "[[0.22578248 0.11410299]\n",
      " [0.93984231 0.39576837]\n",
      " [0.16611767 0.40290444]\n",
      " [0.69530881 0.37038014]]\n",
      "-------------\n",
      "target output\n",
      "[[1. 1.]\n",
      " [1. 1.]\n",
      " [1. 1.]\n",
      " [1. 1.]\n",
      " [1. 1.]\n",
      " [1. 1.]]\n",
      "Predictive Output\n",
      "[[0. 0.]\n",
      " [0. 0.]\n",
      " [0. 0.]\n",
      " [0. 0.]\n",
      " [0. 0.]\n",
      " [0. 0.]]\n",
      "layer1\n",
      "[[0.69826209 0.59749161 0.65411703 0.6228199 ]\n",
      " [0.66609753 0.59966934 0.58748731 0.59636191]\n",
      " [0.66397358 0.63947061 0.65719619 0.60825827]\n",
      " [0.63680576 0.54114645 0.65209201 0.60923162]\n",
      " [0.59137158 0.59431497 0.64303973 0.55468299]\n",
      " [0.59137158 0.59431497 0.64303973 0.55468299]]\n",
      "layer2\n",
      "[[0.79815724 0.70730471]\n",
      " [0.75101128 0.66870834]\n",
      " [0.81258259 0.7191452 ]\n",
      " [0.73845447 0.66242346]\n",
      " [0.75417283 0.67324983]\n",
      " [0.75417283 0.67324983]]\n"
     ]
    },
    {
     "data": {
      "text/plain": [
       "matrix([[0.79815724, 0.70730471],\n",
       "        [0.75101128, 0.66870834],\n",
       "        [0.81258259, 0.7191452 ],\n",
       "        [0.73845447, 0.66242346],\n",
       "        [0.75417283, 0.67324983],\n",
       "        [0.75417283, 0.67324983]])"
      ]
     },
     "execution_count": 94,
     "metadata": {},
     "output_type": "execute_result"
    },
    {
     "data": {
      "image/png": "[encoded data removed]",
      "text/plain": [
       "<Figure size 432x288 with 1 Axes>"
      ]
     },
     "metadata": {},
     "output_type": "display_data"
    }
   ],
   "source": [
    "G=nx.Graph()\n",
    "G.add_edges_from([(0,1), (0,2), (0,3), (1,2), (2,4), (2,5), (4,5)])\n",
    "gcn=GCN(G)\n",
    "gcn.view()\n",
    "gcn.feedforward()"
   ]
  },
  {
   "cell_type": "code",
   "execution_count": null,
   "metadata": {},
   "outputs": [],
   "source": [
    "def backprop():\n",
    "        d_weights2 = np.dot(self.layer1.T, 2*(self.target_output -self.output)*self.sigmoid_derivative(self.output))\n",
    "        d_weights1 = np.dot(self.I.T, np.dot(2*(self.target_output - self.output)*\n",
    "                     self.sigmoid_derivative(self.output), self.weights2.T)*self.sigmoid_derivative(self.layer1))\n",
    "        self.weights1 -= d_weights1\n",
    "        self.weights2 -= d_weights2"
   ]
  },
  {
   "cell_type": "code",
   "execution_count": 24,
   "metadata": {},
   "outputs": [
    {
     "name": "stdout",
     "output_type": "stream",
     "text": [
      "Graph\n",
      "Weights1:\n",
      "[[0.2056325  0.52736066 0.42337981 0.41808659]\n",
      " [0.51052288 0.84572054 0.11375491 0.32513274]\n",
      " [0.29021085 0.4140406  0.60453683 0.70635182]\n",
      " [0.43751609 0.78603429 0.62500784 0.07286674]\n",
      " [0.55398168 0.19170779 0.64624455 0.84883634]\n",
      " [0.26195637 0.8542823  0.52994229 0.33627596]]\n",
      "-------------\n",
      "Weights2:\n",
      "[[0.93319022 0.06723011]\n",
      " [0.57009908 0.08661455]\n",
      " [0.35294402 0.28832273]\n",
      " [0.87229082 0.47913678]]\n",
      "-------------\n",
      "target output\n",
      "[[1. 1.]\n",
      " [1. 1.]\n",
      " [1. 1.]\n",
      " [1. 1.]]\n",
      "Predictive Output\n",
      "[[0.86334933 0.65023298]\n",
      " [0.81434939 0.62213239]\n",
      " [0.88202497 0.66524435]\n",
      " [0.80102035 0.6142847 ]\n",
      " [0.8275001  0.63209567]\n",
      " [0.8275001  0.63209567]]\n"
     ]
    },
    {
     "data": {
      "image/png": "[encoded data removed]",
      "text/plain": [
       "<Figure size 432x288 with 1 Axes>"
      ]
     },
     "metadata": {},
     "output_type": "display_data"
    }
   ],
   "source": [
    "\n"
   ]
  },
  {
   "cell_type": "code",
   "execution_count": null,
   "metadata": {},
   "outputs": [],
   "source": [
    "class GCN:\n",
    "    def __init__(self, G):\n",
    "        self.G = G\n",
    "        self.weights1= np.random.rand(self.G.number_of_nodes(),4) # considering we have 4 nodes in the hidden layer\n",
    "        self.weights2 = np.random.rand(self.weights1.shape[1],1)\n",
    "        self.y = np.eye(G.number_of_nodes())\n",
    "        self.output = np.zeros(y.shape)\n",
    "    # Activation function\n",
    "    def sigmoid(self, x):\n",
    "        return 1/(1+np.exp(-x))\n",
    "    # Derivative of sigmoid\n",
    "    def sigmoid_derivative(self, x):\n",
    "        return (x * (1 - x))  \n",
    "    #Feed Forward\n",
    "    def feedforward(self):\n",
    "        self.layer1 = self.sigmoid(np.dot(self.input, self.weights1))\n",
    "        self.layer2 = self.sigmoid(np.dot(self.layer1, self.weights2))\n",
    "        return self.layer2\n",
    "    #Backpropagation \n",
    "    def backprop(self):\n",
    "        d_weights2 = np.dot(self.layer1.T, 2*(self.y -self.output)*self.sigmoid_derivative(self.output))\n",
    "        d_weights1 = np.dot(self.input.T, np.dot(2*(self.y -self.output)*\n",
    "                     self.sigmoid_derivative(self.output), self.weights2.T)*self.sigmoid_derivative(self.layer1))\n",
    "        self.weights1 += d_weights1\n",
    "        self.weights2 += d_weights2\n",
    "    #Train\n",
    "    def classfication(self):\n",
    "        fo=np.zeros(self.output.shape)\n",
    "        j=0\n",
    "        for i in self.output:\n",
    "            if i>=0.5:\n",
    "                fo[j]=1\n",
    "            else:\n",
    "                fo[j]=0\n",
    "            j=j+1\n",
    "        return fo\n",
    "    def train(self):\n",
    "        for i in range(100000):\n",
    "            self.output = self.feedforward()\n",
    "            self.backprop()\n",
    "        finaloutput=self.classfication()\n",
    "        #for i in finaloutput:\n",
    "        print(\"Weights1:\")\n",
    "        print(self.weights1)\n",
    "        print(\"-------------\")\n",
    "        print(\"Weights2:\")\n",
    "        print(self.weights2)\n",
    "        print(\"-------------\")\n",
    "        print(\"Predictive Output:\")\n",
    "        print(self.output.T)\n",
    "        print(\"Predictive Output class:\")\n",
    "        print(finaloutput.T)\n",
    "        print(\"Actual Output:\")\n",
    "        print(self.y.T)"
   ]
  },
  {
   "cell_type": "code",
   "execution_count": 8,
   "metadata": {},
   "outputs": [],
   "source": [
    "feature_representations = {\n",
    "    node: np.array(output)[node] \n",
    "    for node in G.nodes()}"
   ]
  },
  {
   "cell_type": "code",
   "execution_count": 9,
   "metadata": {},
   "outputs": [
    {
     "data": {
      "text/plain": [
       "{0: array([0.09430695, 0.61631001]),\n",
       " 1: array([0.15908647, 0.59771895]),\n",
       " 2: array([0.0931612 , 0.64199248]),\n",
       " 3: array([0.1331321 , 0.58417354]),\n",
       " 4: array([0.14434383, 0.61775827]),\n",
       " 5: array([0.14434383, 0.61775827])}"
      ]
     },
     "execution_count": 9,
     "metadata": {},
     "output_type": "execute_result"
    }
   ],
   "source": [
    "feature_representations"
   ]
  },
  {
   "cell_type": "code",
   "execution_count": 10,
   "metadata": {},
   "outputs": [
    {
     "data": {
      "image/png": "[encoded data removed]",
      "text/plain": [
       "<Figure size 432x288 with 1 Axes>"
      ]
     },
     "metadata": {},
     "output_type": "display_data"
    }
   ],
   "source": [
    "test= nx.Graph()\n",
    "test.add_edges_from([(0,1), (0,2), (1,2)])\n",
    "nx.draw(test, with_labels=True)"
   ]
  },
  {
   "cell_type": "code",
   "execution_count": 11,
   "metadata": {},
   "outputs": [],
   "source": [
    "test_A_own,test_D_inv,test_I= computematrixes (test)\n",
    "test_order = sorted(list(test.nodes()))\n",
    "test_W1=np.empty((len(test_order),W1.shape[1]))\n",
    "for i in range(len(test_order)):\n",
    "    for j in range(W1.shape[1]):\n",
    "        test_W1[i][j]=W1[test_order[i]][j]\n",
    "test_H1= gcn_layer(test_A_own, test_D_inv, test_I, test_W1)\n",
    "test_W2=W2\n",
    "test_H2 = gcn_layer(test_A_own, test_D_inv, test_H1, test_W2)"
   ]
  },
  {
   "cell_type": "code",
   "execution_count": 12,
   "metadata": {},
   "outputs": [
    {
     "data": {
      "text/plain": [
       "matrix([[0.38995338, 0.3884758 , 0.40543127, 0.376273  , 0.39844644,\n",
       "         0.39844644],\n",
       "        [0.38995338, 0.3884758 , 0.40543127, 0.376273  , 0.39844644,\n",
       "         0.39844644],\n",
       "        [0.38995338, 0.3884758 , 0.40543127, 0.376273  , 0.39844644,\n",
       "         0.39844644]])"
      ]
     },
     "execution_count": 12,
     "metadata": {},
     "output_type": "execute_result"
    }
   ],
   "source": [
    "similarity_matrix=test_H2*H2.T\n",
    "similarity_matrix"
   ]
  },
  {
   "cell_type": "code",
   "execution_count": 13,
   "metadata": {},
   "outputs": [
    {
     "name": "stdout",
     "output_type": "stream",
     "text": [
      "Actual Nodes: \n",
      "[0 1 2]\n",
      "Predicted Nodes: \n",
      "[2. 2. 2.]\n"
     ]
    }
   ],
   "source": [
    "def maxelement(arr,p): \n",
    "    # get number of rows and columns \n",
    "    no_of_rows = len(arr) \n",
    "    no_of_column = len(arr[0]) \n",
    "    for i in range(no_of_rows):   \n",
    "        # Initialize max1 to 0 at beginning \n",
    "        # of finding max element of each row \n",
    "        max1 = 0\n",
    "        for j in range(no_of_column): \n",
    "            if arr[i][j] > max1 : \n",
    "                max1 = arr[i][j]\n",
    "                p[i]=j\n",
    "            #print(max1)\n",
    "            #print(predicted_node[i])\n",
    "    return p\n",
    "actual_node = np.array(sorted(list(test.nodes())))\n",
    "print(\"Actual Nodes: \")\n",
    "print(actual_node)\n",
    "predicted_node=np.zeros(len(actual_node))\n",
    "predicted_node=maxelement(np.array(similarity_matrix),predicted_node)\n",
    "print(\"Predicted Nodes: \")\n",
    "print(predicted_node)"
   ]
  },
  {
   "cell_type": "code",
   "execution_count": null,
   "metadata": {},
   "outputs": [],
   "source": []
  }
 ],
 "metadata": {
  "kernelspec": {
   "display_name": "Python 3",
   "language": "python",
   "name": "python3"
  },
  "language_info": {
   "codemirror_mode": {
    "name": "ipython",
    "version": 3
   },
   "file_extension": ".py",
   "mimetype": "text/x-python",
   "name": "python",
   "nbconvert_exporter": "python",
   "pygments_lexer": "ipython3",
   "version": "3.7.4"
  }
 },
 "nbformat": 4,
 "nbformat_minor": 2
}
