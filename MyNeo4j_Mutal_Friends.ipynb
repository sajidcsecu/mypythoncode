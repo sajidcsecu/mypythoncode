{
 "cells": [
  {
   "cell_type": "code",
   "execution_count": 5,
   "metadata": {},
   "outputs": [],
   "source": [
    "from neo4j import GraphDatabase, basic_auth\n",
    "graphdb=GraphDatabase.driver(uri=\"bolt://localhost:7687\",auth=basic_auth(\"neo4j\",\"9luoofrq\"),encrypted = False)\n",
    "session=graphdb.session()"
   ]
  },
  {
   "cell_type": "code",
   "execution_count": 6,
   "metadata": {},
   "outputs": [],
   "source": [
    "q1='''Match (n) Detach Delete (n)'''\n",
    "result=session.run(q1)\n",
    "for i in result:\n",
    "    print(i)"
   ]
  },
  {
   "cell_type": "code",
   "execution_count": 7,
   "metadata": {},
   "outputs": [
    {
     "data": {
      "text/plain": [
       "<neo4j.BoltStatementResult at 0x216ca195348>"
      ]
     },
     "execution_count": 7,
     "metadata": {},
     "output_type": "execute_result"
    }
   ],
   "source": [
    "q1='''Create (amit:Player {name:'amit'}),(vicky:Player {name:'vicky'}),(rahul:Player {name:'rahul'}), \n",
    "            (rony:Player {name:'rony'}),(viswa:Player {name:'viswa'}),(jenifer:Player {name:'jenifer'}), \n",
    "            (amit)-[:friends]->(vicky),(rahul)-[:friends]->(vicky), (rony)-[:friends]->(vicky),(viswa)-[:friends]->(vicky),\n",
    "            (viswa)-[:friends]->(jenifer),(rony)-[:friends]->(jenifer)\n",
    "            '''\n",
    "session.run(q1)"
   ]
  },
  {
   "cell_type": "code",
   "execution_count": 8,
   "metadata": {},
   "outputs": [
    {
     "name": "stdout",
     "output_type": "stream",
     "text": [
      "<Record n=<Node id=0 labels={'Player'} properties={'name': 'amit'}>>\n",
      "<Record n=<Node id=1 labels={'Player'} properties={'name': 'vicky'}>>\n",
      "<Record n=<Node id=2 labels={'Player'} properties={'name': 'rahul'}>>\n",
      "<Record n=<Node id=3 labels={'Player'} properties={'name': 'rony'}>>\n",
      "<Record n=<Node id=4 labels={'Player'} properties={'name': 'viswa'}>>\n",
      "<Record n=<Node id=5 labels={'Player'} properties={'name': 'jenifer'}>>\n"
     ]
    }
   ],
   "source": [
    "q1='''Match (n) Return (n)'''\n",
    "result=session.run(q1)\n",
    "for i in result:\n",
    "    print(i)"
   ]
  },
  {
   "cell_type": "code",
   "execution_count": 10,
   "metadata": {},
   "outputs": [
    {
     "name": "stdout",
     "output_type": "stream",
     "text": [
      "<Record name='jenifer'>\n",
      "<Record name='vicky'>\n"
     ]
    }
   ],
   "source": [
    "#mutual friends\n",
    "q1='''match (A:Player{name:\"viswa\"}),(B:Player{name:\"rony\"})\n",
    "with [(A)--(C)--(B) where C:Player| C.name] as names\n",
    "unwind names as name\n",
    "return name'''\n",
    "result=session.run(q1)\n",
    "for i in result:\n",
    "    print(i)"
   ]
  },
  {
   "cell_type": "code",
   "execution_count": null,
   "metadata": {},
   "outputs": [],
   "source": []
  }
 ],
 "metadata": {
  "kernelspec": {
   "display_name": "Python 3",
   "language": "python",
   "name": "python3"
  },
  "language_info": {
   "codemirror_mode": {
    "name": "ipython",
    "version": 3
   },
   "file_extension": ".py",
   "mimetype": "text/x-python",
   "name": "python",
   "nbconvert_exporter": "python",
   "pygments_lexer": "ipython3",
   "version": "3.7.4"
  }
 },
 "nbformat": 4,
 "nbformat_minor": 2
}
