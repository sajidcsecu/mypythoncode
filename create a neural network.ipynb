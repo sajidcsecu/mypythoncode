{
 "cells": [
  {
   "cell_type": "code",
   "execution_count": 1,
   "metadata": {},
   "outputs": [],
   "source": [
    "from mxnet import nd\n",
    "from mxnet.gluon import nn"
   ]
  },
  {
   "cell_type": "code",
   "execution_count": 2,
   "metadata": {},
   "outputs": [
    {
     "data": {
      "text/plain": [
       "Dense(None -> 2, linear)"
      ]
     },
     "execution_count": 2,
     "metadata": {},
     "output_type": "execute_result"
    }
   ],
   "source": [
    "layer = nn.Dense(2)\n",
    "layer"
   ]
  },
  {
   "cell_type": "code",
   "execution_count": 3,
   "metadata": {},
   "outputs": [],
   "source": [
    "layer.initialize()"
   ]
  },
  {
   "cell_type": "code",
   "execution_count": 4,
   "metadata": {},
   "outputs": [
    {
     "data": {
      "text/plain": [
       "Dense(None -> 2, linear)"
      ]
     },
     "execution_count": 4,
     "metadata": {},
     "output_type": "execute_result"
    }
   ],
   "source": [
    "layer"
   ]
  },
  {
   "cell_type": "code",
   "execution_count": 5,
   "metadata": {},
   "outputs": [],
   "source": [
    "x = nd.random.uniform(-1,1,(3,4))"
   ]
  },
  {
   "cell_type": "code",
   "execution_count": 6,
   "metadata": {},
   "outputs": [
    {
     "data": {
      "text/plain": [
       "\n",
       "[[ 0.09762704  0.18568921  0.43037868  0.6885315 ]\n",
       " [ 0.20552671  0.71589124  0.08976638  0.6945034 ]\n",
       " [-0.15269041  0.24712741  0.29178822 -0.23123658]]\n",
       "<NDArray 3x4 @cpu(0)>"
      ]
     },
     "execution_count": 6,
     "metadata": {},
     "output_type": "execute_result"
    }
   ],
   "source": [
    "x"
   ]
  },
  {
   "cell_type": "code",
   "execution_count": 7,
   "metadata": {},
   "outputs": [
    {
     "data": {
      "text/plain": [
       "\n",
       "[[-0.02524132 -0.00874885]\n",
       " [-0.06026538 -0.01308061]\n",
       " [ 0.02468396 -0.02181557]]\n",
       "<NDArray 3x2 @cpu(0)>"
      ]
     },
     "execution_count": 7,
     "metadata": {},
     "output_type": "execute_result"
    }
   ],
   "source": [
    "layer(x)"
   ]
  },
  {
   "cell_type": "code",
   "execution_count": 8,
   "metadata": {},
   "outputs": [
    {
     "data": {
      "text/plain": [
       "Dense(4 -> 2, linear)"
      ]
     },
     "execution_count": 8,
     "metadata": {},
     "output_type": "execute_result"
    }
   ],
   "source": [
    "layer"
   ]
  },
  {
   "cell_type": "code",
   "execution_count": 10,
   "metadata": {},
   "outputs": [
    {
     "data": {
      "text/plain": [
       "\n",
       "[[-0.00873779 -0.02834515  0.05484822 -0.06206018]\n",
       " [ 0.06491279 -0.03182812 -0.01631819 -0.00312688]]\n",
       "<NDArray 2x4 @cpu(0)>"
      ]
     },
     "execution_count": 10,
     "metadata": {},
     "output_type": "execute_result"
    }
   ],
   "source": [
    "layer.weight.data()"
   ]
  },
  {
   "cell_type": "code",
   "execution_count": 11,
   "metadata": {},
   "outputs": [
    {
     "data": {
      "text/plain": [
       "Sequential(\n",
       "  (0): Conv2D(None -> 6, kernel_size=(5, 5), stride=(1, 1), Activation(relu))\n",
       "  (1): MaxPool2D(size=(2, 2), stride=(2, 2), padding=(0, 0), ceil_mode=False, global_pool=False, pool_type=max, layout=NCHW)\n",
       "  (2): Conv2D(None -> 16, kernel_size=(3, 3), stride=(1, 1), Activation(relu))\n",
       "  (3): MaxPool2D(size=(2, 2), stride=(2, 2), padding=(0, 0), ceil_mode=False, global_pool=False, pool_type=max, layout=NCHW)\n",
       "  (4): Dense(None -> 120, Activation(relu))\n",
       "  (5): Dense(None -> 84, Activation(relu))\n",
       "  (6): Dense(None -> 10, linear)\n",
       ")"
      ]
     },
     "execution_count": 11,
     "metadata": {},
     "output_type": "execute_result"
    }
   ],
   "source": [
    "net = nn.Sequential()\n",
    "# Add a sequence of layers.\n",
    "net.add(# Similar to Dense, it is not necessary to specify the input channels\n",
    "        # by the argument `in_channels`, which will be  automatically inferred\n",
    "        # in the first forward pass. Also, we apply a relu activation on the\n",
    "        # output. In addition, we can use a tuple to specify a  non-square\n",
    "        # kernel size, such as `kernel_size=(2,4)`\n",
    "        nn.Conv2D(channels=6, kernel_size=5, activation='relu'),\n",
    "        # One can also use a tuple to specify non-symmetric pool and stride sizes\n",
    "        nn.MaxPool2D(pool_size=2, strides=2),\n",
    "        nn.Conv2D(channels=16, kernel_size=3, activation='relu'),\n",
    "        nn.MaxPool2D(pool_size=2, strides=2),\n",
    "        # The dense layer will automatically reshape the 4-D output of last\n",
    "        # max pooling layer into the 2-D shape: (x.shape[0], x.size/x.shape[0])\n",
    "        nn.Dense(120, activation=\"relu\"),\n",
    "        nn.Dense(84, activation=\"relu\"),\n",
    "        nn.Dense(10))\n",
    "net"
   ]
  },
  {
   "cell_type": "code",
   "execution_count": 12,
   "metadata": {},
   "outputs": [
    {
     "data": {
      "text/plain": [
       "(4, 10)"
      ]
     },
     "execution_count": 12,
     "metadata": {},
     "output_type": "execute_result"
    }
   ],
   "source": [
    "net.initialize()\n",
    "# Input shape is (batch_size, color_channels, height, width)\n",
    "x = nd.random.uniform(shape=(4,1,28,28))\n",
    "y = net(x)\n",
    "y.shape"
   ]
  },
  {
   "cell_type": "code",
   "execution_count": 13,
   "metadata": {},
   "outputs": [
    {
     "data": {
      "text/plain": [
       "\n",
       "[[-1.8944463e-03 -1.1281811e-03  1.4912135e-03  3.4278480e-03\n",
       "  -1.2005987e-03  4.5558185e-04 -1.9482849e-03  1.1272548e-03\n",
       "   2.7200207e-03 -6.1708633e-05]\n",
       " [-1.4283753e-03 -1.3048853e-03  1.6090265e-03  3.0578680e-03\n",
       "  -8.8548334e-04 -2.9706189e-05 -1.6792757e-03  5.9371087e-04\n",
       "   3.2274700e-03  1.3673720e-04]\n",
       " [-1.4781976e-03 -1.8161776e-03  1.9952499e-03  3.6113353e-03\n",
       "  -9.1113005e-04  1.8122171e-05 -1.5912550e-03  5.1596569e-04\n",
       "   2.6741112e-03 -2.7984811e-04]\n",
       " [-1.3537750e-03 -1.3361122e-03  1.8610689e-03  3.6126999e-03\n",
       "  -7.8630331e-04  5.7324505e-04 -2.2774055e-03  4.1549964e-04\n",
       "   3.5023727e-03  4.2847291e-04]]\n",
       "<NDArray 4x10 @cpu(0)>"
      ]
     },
     "execution_count": 13,
     "metadata": {},
     "output_type": "execute_result"
    }
   ],
   "source": [
    "y"
   ]
  },
  {
   "cell_type": "code",
   "execution_count": 14,
   "metadata": {},
   "outputs": [
    {
     "data": {
      "text/plain": [
       "((6, 1, 5, 5), (84,))"
      ]
     },
     "execution_count": 14,
     "metadata": {},
     "output_type": "execute_result"
    }
   ],
   "source": [
    "(net[0].weight.data().shape, net[5].bias.data().shape)"
   ]
  },
  {
   "cell_type": "code",
   "execution_count": 15,
   "metadata": {},
   "outputs": [
    {
     "data": {
      "text/plain": [
       "Parameter conv0_weight (shape=(6, 1, 5, 5), dtype=<class 'numpy.float32'>)"
      ]
     },
     "execution_count": 15,
     "metadata": {},
     "output_type": "execute_result"
    }
   ],
   "source": [
    "net[0].weight"
   ]
  },
  {
   "cell_type": "code",
   "execution_count": 16,
   "metadata": {},
   "outputs": [
    {
     "data": {
      "text/plain": [
       "\n",
       "[[[[ 2.76683643e-02 -5.61007522e-02 -6.15684353e-02  6.57732710e-02\n",
       "     2.33473405e-02]\n",
       "   [ 2.14396045e-02  2.38892958e-02 -4.60726582e-02 -4.05464396e-02\n",
       "    -1.98586956e-02]\n",
       "   [-5.19503206e-02  3.50960642e-02 -2.58400328e-02  1.50962919e-02\n",
       "    -1.90804936e-02]\n",
       "   [-2.44933888e-02  9.82754678e-03 -6.46204427e-02 -8.59578699e-03\n",
       "     1.87983662e-02]\n",
       "   [ 6.83723316e-02  6.42528906e-02 -5.57137281e-02  2.13906467e-02\n",
       "    -4.07572538e-02]]]\n",
       "\n",
       "\n",
       " [[[ 1.89082399e-02 -4.74166684e-02  6.93419352e-02  2.14351639e-02\n",
       "     1.14590526e-02]\n",
       "   [-3.45391743e-02 -1.19883977e-02 -4.71649319e-03 -3.54234874e-03\n",
       "    -3.57804187e-02]\n",
       "   [ 1.72914192e-02 -4.77442592e-02 -2.26789303e-02 -5.45474812e-02\n",
       "     2.44653225e-02]\n",
       "   [ 2.18861401e-02 -2.55917571e-02 -5.06543890e-02  3.89683619e-02\n",
       "    -4.24784720e-02]\n",
       "   [ 6.29399493e-02 -1.83784738e-02  2.27537602e-02  4.49390560e-02\n",
       "    -6.80999681e-02]]]\n",
       "\n",
       "\n",
       " [[[ 6.41045347e-02 -1.23496987e-02  4.64314222e-03 -4.23428752e-02\n",
       "     2.68628001e-02]\n",
       "   [-2.94518508e-02 -2.58278102e-02 -5.01031801e-02  2.61101276e-02\n",
       "     3.96640226e-02]\n",
       "   [ 4.68475893e-02 -1.22445598e-02 -6.74396381e-02 -6.52160197e-02\n",
       "     3.50202024e-02]\n",
       "   [ 1.73641965e-02  6.84405491e-02  2.24889964e-02  3.47431898e-02\n",
       "    -2.82106586e-02]\n",
       "   [-3.07378396e-02 -7.54116848e-03  4.04991060e-02 -3.89025658e-02\n",
       "    -5.55483587e-02]]]\n",
       "\n",
       "\n",
       " [[[-5.97290173e-02 -7.29490817e-03 -4.30660695e-03  5.72033748e-02\n",
       "    -5.65358847e-02]\n",
       "   [-2.88940184e-02  5.64718172e-02 -2.97114514e-02 -5.32713346e-02\n",
       "    -5.17960005e-02]\n",
       "   [ 3.47191840e-03 -6.72886223e-02 -5.82927801e-02  2.50369683e-02\n",
       "     5.83605841e-02]\n",
       "   [-4.03720662e-02  5.74627742e-02 -3.28234695e-02 -2.81497836e-02\n",
       "    -1.17975473e-03]\n",
       "   [ 1.18144825e-02 -6.25292435e-02  9.22767818e-03  1.03764609e-02\n",
       "     1.59513652e-02]]]\n",
       "\n",
       "\n",
       " [[[ 1.96569413e-02  2.15972662e-02 -2.37022340e-03  4.10325676e-02\n",
       "     7.33144581e-04]\n",
       "   [ 2.28286535e-02 -1.58350281e-02  1.58241615e-02  4.11092415e-02\n",
       "     6.87192753e-02]\n",
       "   [ 1.12005845e-02 -5.32721281e-02 -4.72781956e-02 -4.92009297e-02\n",
       "     2.81053260e-02]\n",
       "   [ 4.93193418e-02  6.50371537e-02  1.33362412e-03  1.16974115e-06\n",
       "    -3.95822078e-02]\n",
       "   [ 5.45328036e-02  6.90572783e-02 -2.21740901e-02 -2.58583538e-02\n",
       "     9.40018147e-03]]]\n",
       "\n",
       "\n",
       " [[[-3.37773561e-02 -1.01435632e-02  4.32845429e-02 -8.85538384e-03\n",
       "    -2.04854496e-02]\n",
       "   [ 3.87182832e-02 -4.50205058e-03  4.98458743e-03 -3.16157453e-02\n",
       "     6.35239109e-02]\n",
       "   [ 4.17480543e-02  6.18914515e-03  4.39793766e-02 -5.85067123e-02\n",
       "     6.27326593e-02]\n",
       "   [-1.87120661e-02  4.52038497e-02  4.91190702e-02  2.11947411e-03\n",
       "    -1.31214969e-02]\n",
       "   [-3.90602574e-02 -6.61916658e-02  3.45283970e-02 -3.53951864e-02\n",
       "    -9.58471000e-03]]]]\n",
       "<NDArray 6x1x5x5 @cpu(0)>"
      ]
     },
     "execution_count": 16,
     "metadata": {},
     "output_type": "execute_result"
    }
   ],
   "source": [
    "net[0].weight.data()"
   ]
  },
  {
   "cell_type": "code",
   "execution_count": 17,
   "metadata": {},
   "outputs": [
    {
     "data": {
      "text/plain": [
       "MixMLP(\n",
       "  (blk): Sequential(\n",
       "    (0): Dense(None -> 3, Activation(relu))\n",
       "    (1): Dense(None -> 4, Activation(relu))\n",
       "  )\n",
       "  (dense): Dense(None -> 5, linear)\n",
       ")"
      ]
     },
     "execution_count": 17,
     "metadata": {},
     "output_type": "execute_result"
    }
   ],
   "source": [
    "\n",
    "class MixMLP(nn.Block):\n",
    "    def __init__(self, **kwargs):\n",
    "        # Run `nn.Block`'s init method\n",
    "        super(MixMLP, self).__init__(**kwargs)\n",
    "        self.blk = nn.Sequential()\n",
    "        self.blk.add(nn.Dense(3, activation='relu'),\n",
    "                     nn.Dense(4, activation='relu'))\n",
    "        self.dense = nn.Dense(5)\n",
    "    def forward(self, x):\n",
    "        y = nd.relu(self.blk(x))\n",
    "        print(y)\n",
    "        return self.dense(y)\n",
    "\n",
    "net = MixMLP()\n",
    "net"
   ]
  },
  {
   "cell_type": "code",
   "execution_count": 18,
   "metadata": {},
   "outputs": [
    {
     "name": "stdout",
     "output_type": "stream",
     "text": [
      "\n",
      "[[0.0000000e+00 0.0000000e+00 6.2900386e-04 7.6445533e-05]\n",
      " [0.0000000e+00 0.0000000e+00 1.1989386e-03 1.2375204e-03]]\n",
      "<NDArray 2x4 @cpu(0)>\n"
     ]
    },
    {
     "data": {
      "text/plain": [
       "\n",
       "[[-3.8061840e-05  1.5568350e-05  4.3668215e-06  4.2853058e-05\n",
       "   1.8710394e-05]\n",
       " [-1.8345519e-05  2.6403079e-05  2.4685731e-05  7.7019373e-05\n",
       "   9.7785989e-05]]\n",
       "<NDArray 2x5 @cpu(0)>"
      ]
     },
     "execution_count": 18,
     "metadata": {},
     "output_type": "execute_result"
    }
   ],
   "source": [
    "net.initialize()\n",
    "x = nd.random.uniform(shape=(2,2))\n",
    "net(x)"
   ]
  },
  {
   "cell_type": "code",
   "execution_count": 19,
   "metadata": {},
   "outputs": [
    {
     "data": {
      "text/plain": [
       "\n",
       "[[-0.0343901  -0.05805862 -0.06187592]\n",
       " [-0.06210143 -0.00918167 -0.00170272]\n",
       " [-0.02634858  0.05334064  0.02748809]\n",
       " [ 0.06669661 -0.01711474  0.01647211]]\n",
       "<NDArray 4x3 @cpu(0)>"
      ]
     },
     "execution_count": 19,
     "metadata": {},
     "output_type": "execute_result"
    }
   ],
   "source": [
    "net.blk[1].weight.data()"
   ]
  },
  {
   "cell_type": "code",
   "execution_count": null,
   "metadata": {},
   "outputs": [],
   "source": []
  }
 ],
 "metadata": {
  "kernelspec": {
   "display_name": "Python 3",
   "language": "python",
   "name": "python3"
  },
  "language_info": {
   "codemirror_mode": {
    "name": "ipython",
    "version": 3
   },
   "file_extension": ".py",
   "mimetype": "text/x-python",
   "name": "python",
   "nbconvert_exporter": "python",
   "pygments_lexer": "ipython3",
   "version": "3.7.4"
  }
 },
 "nbformat": 4,
 "nbformat_minor": 2
}
