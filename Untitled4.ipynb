{
 "cells": [
  {
   "cell_type": "code",
   "execution_count": 1,
   "metadata": {},
   "outputs": [
    {
     "name": "stdout",
     "output_type": "stream",
     "text": [
      "Collecting sharepathway\n",
      "  Downloading https://files.pythonhosted.org/packages/d1/d6/86059b96ee1793b26247e3ca2423ee5f4122708c8db307ad807831a0129c/sharepathway-0.5.0.zip\n",
      "Requirement already satisfied: numpy>=1.4.0 in c:\\programdata\\anaconda3\\lib\\site-packages (from sharepathway) (1.16.5)\n",
      "Requirement already satisfied: scipy>=0.9.0 in c:\\programdata\\anaconda3\\lib\\site-packages (from sharepathway) (1.3.1)\n",
      "Building wheels for collected packages: sharepathway\n",
      "  Building wheel for sharepathway (setup.py): started\n",
      "  Building wheel for sharepathway (setup.py): finished with status 'done'\n",
      "  Created wheel for sharepathway: filename=sharepathway-0.5.0-cp37-none-any.whl size=22476 sha256=842fd377010a40c2beb777eb611f921be27295049386b78c418ccc4874814461\n",
      "  Stored in directory: C:\\Users\\asua\\AppData\\Local\\pip\\Cache\\wheels\\e4\\e6\\a1\\a2777addcdfc1f8e80fee02c182be6183c4799def06adf97d8\n",
      "Successfully built sharepathway\n",
      "Installing collected packages: sharepathway\n",
      "Successfully installed sharepathway-0.5.0\n",
      "Note: you may need to restart the kernel to use updated packages.\n"
     ]
    }
   ],
   "source": [
    "pip install sharepathway"
   ]
  },
  {
   "cell_type": "code",
   "execution_count": null,
   "metadata": {},
   "outputs": [],
   "source": []
  }
 ],
 "metadata": {
  "kernelspec": {
   "display_name": "Python 3",
   "language": "python",
   "name": "python3"
  },
  "language_info": {
   "codemirror_mode": {
    "name": "ipython",
    "version": 3
   },
   "file_extension": ".py",
   "mimetype": "text/x-python",
   "name": "python",
   "nbconvert_exporter": "python",
   "pygments_lexer": "ipython3",
   "version": "3.7.4"
  }
 },
 "nbformat": 4,
 "nbformat_minor": 2
}
