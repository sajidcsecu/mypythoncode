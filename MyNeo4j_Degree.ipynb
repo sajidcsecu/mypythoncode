{
 "cells": [
  {
   "cell_type": "code",
   "execution_count": 1,
   "metadata": {},
   "outputs": [],
   "source": [
    "from neo4j import GraphDatabase, basic_auth\n",
    "graphdb=GraphDatabase.driver(uri=\"bolt://localhost:7687\",auth=basic_auth(\"neo4j\",\"9luoofrq\"),encrypted = False)\n",
    "session=graphdb.session()"
   ]
  },
  {
   "cell_type": "code",
   "execution_count": 2,
   "metadata": {},
   "outputs": [
    {
     "data": {
      "text/plain": [
       "<neo4j.BoltStatementResult at 0x19392bdb848>"
      ]
     },
     "execution_count": 2,
     "metadata": {},
     "output_type": "execute_result"
    }
   ],
   "source": [
    "q1='''Create (Rony:Player {name:'Rony'}),(Mony:Player {name:'Mony'}),(Sony:Player {name:'Sony'}), \n",
    "            (Tony:Player {name:'Tony'}),(Nony:Player {name:'Nony'}),(Pony:Player {name:'Pony'}), \n",
    "            (Rony)-[:is_friend_of]->(Mony),(Rony)-[:is_friend_of]->(Tony), (Rony)-[:is_friend_of]->(Pony),\n",
    "            (Mony)-[:is_friend_of]->(Sony), \n",
    "            (Tony)-[:is_friend_of]->(Nony),\n",
    "            (Pony)-[:is_friend_of]->(Nony)\n",
    "            '''\n",
    "session.run(q1)"
   ]
  },
  {
   "cell_type": "code",
   "execution_count": 3,
   "metadata": {},
   "outputs": [
    {
     "name": "stdout",
     "output_type": "stream",
     "text": [
      "<Record n=<Node id=0 labels={'Player'} properties={'name': 'Rony'}>>\n",
      "<Record n=<Node id=1 labels={'Player'} properties={'name': 'Mony'}>>\n",
      "<Record n=<Node id=2 labels={'Player'} properties={'name': 'Sony'}>>\n",
      "<Record n=<Node id=3 labels={'Player'} properties={'name': 'Tony'}>>\n",
      "<Record n=<Node id=4 labels={'Player'} properties={'name': 'Nony'}>>\n",
      "<Record n=<Node id=5 labels={'Player'} properties={'name': 'Pony'}>>\n"
     ]
    }
   ],
   "source": [
    "q1='''Match (n) Return (n)'''\n",
    "result=session.run(q1)\n",
    "for i in result:\n",
    "    print(i)"
   ]
  },
  {
   "cell_type": "code",
   "execution_count": 4,
   "metadata": {},
   "outputs": [
    {
     "name": "stdout",
     "output_type": "stream",
     "text": [
      "<Record name='Mony' count(name)=1>\n",
      "<Record name='Tony' count(name)=1>\n",
      "<Record name='Pony' count(name)=1>\n",
      "<Record name='Sony' count(name)=1>\n",
      "<Record name='Nony' count(name)=2>\n"
     ]
    }
   ],
   "source": [
    "#indegree \n",
    "q1='''Match (A:Player)\n",
    "with [(A)-->(B) where B:Player|B.name] as names\n",
    "unwind names as name\n",
    "return name,count(name)'''\n",
    "result=session.run(q1)\n",
    "for i in result:\n",
    "    print(i)"
   ]
  },
  {
   "cell_type": "code",
   "execution_count": 5,
   "metadata": {},
   "outputs": [
    {
     "name": "stdout",
     "output_type": "stream",
     "text": [
      "<Record name='Rony' count(name)=3>\n",
      "<Record name='Mony' count(name)=1>\n",
      "<Record name='Tony' count(name)=1>\n",
      "<Record name='Pony' count(name)=1>\n"
     ]
    }
   ],
   "source": [
    "#outdegree \n",
    "q1='''Match (A:Player)\n",
    "with [(A)-->(B) where A:Player|A.name] as names\n",
    "unwind names as name\n",
    "return name,count(name)'''\n",
    "result=session.run(q1)\n",
    "for i in result:\n",
    "    print(i)"
   ]
  },
  {
   "cell_type": "code",
   "execution_count": null,
   "metadata": {},
   "outputs": [],
   "source": []
  }
 ],
 "metadata": {
  "kernelspec": {
   "display_name": "Python 3",
   "language": "python",
   "name": "python3"
  },
  "language_info": {
   "codemirror_mode": {
    "name": "ipython",
    "version": 3
   },
   "file_extension": ".py",
   "mimetype": "text/x-python",
   "name": "python",
   "nbconvert_exporter": "python",
   "pygments_lexer": "ipython3",
   "version": "3.7.4"
  }
 },
 "nbformat": 4,
 "nbformat_minor": 2
}
