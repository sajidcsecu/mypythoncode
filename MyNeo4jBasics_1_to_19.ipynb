{
 "cells": [
  {
   "cell_type": "code",
   "execution_count": 1,
   "metadata": {},
   "outputs": [
    {
     "name": "stdout",
     "output_type": "stream",
     "text": [
      "Requirement already satisfied: neo4j in c:\\programdata\\anaconda3\\lib\\site-packages (1.7.6)\n",
      "Requirement already satisfied: neotime~=1.7.1 in c:\\programdata\\anaconda3\\lib\\site-packages (from neo4j) (1.7.4)\n",
      "Requirement already satisfied: neobolt~=1.7.15 in c:\\programdata\\anaconda3\\lib\\site-packages (from neo4j) (1.7.16)\n",
      "Requirement already satisfied: pytz in c:\\programdata\\anaconda3\\lib\\site-packages (from neotime~=1.7.1->neo4j) (2019.3)\n",
      "Requirement already satisfied: six in c:\\programdata\\anaconda3\\lib\\site-packages (from neotime~=1.7.1->neo4j) (1.12.0)\n"
     ]
    }
   ],
   "source": [
    "!pip install neo4j"
   ]
  },
  {
   "cell_type": "code",
   "execution_count": 51,
   "metadata": {},
   "outputs": [],
   "source": [
    "from neo4j import GraphDatabase, basic_auth"
   ]
  },
  {
   "cell_type": "code",
   "execution_count": 52,
   "metadata": {},
   "outputs": [],
   "source": [
    "graphdb=GraphDatabase.driver(uri=\"bolt://localhost:7687\",auth=basic_auth(\"neo4j\",\"9luoofrq\"),encrypted = False)"
   ]
  },
  {
   "cell_type": "code",
   "execution_count": 53,
   "metadata": {},
   "outputs": [
    {
     "name": "stdout",
     "output_type": "stream",
     "text": [
      "<Record n=<Node id=0 labels={'Person'} properties={'name': 'roni', 'city': 'dhk', 'dept': 'cse'}>>\n",
      "<Record n=<Node id=1 labels={'Person'} properties={'name': 'koni', 'city': 'ctg', 'dept': 'eee'}>>\n",
      "<Record n=<Node id=2 labels={'Person'} properties={'name': 'moni', 'city': 'kln', 'dept': 'cse'}>>\n",
      "<Record n=<Node id=3 labels={'Person'} properties={'name': 'toni', 'city': 'bor', 'dept': 'eee'}>>\n"
     ]
    }
   ],
   "source": [
    "#Search all\n",
    "session=graphdb.session()\n",
    "q1=\"MATCH (n) return (n)\"\n",
    "nodes=list(session.run(q1))\n",
    "for node in nodes:\n",
    "    print (node)"
   ]
  },
  {
   "cell_type": "code",
   "execution_count": 4,
   "metadata": {},
   "outputs": [
    {
     "name": "stdout",
     "output_type": "stream",
     "text": [
      "<Record n=<Node id=12 labels={'Player'} properties={'name': 'Rony'}>>\n",
      "<Record n=<Node id=13 labels={'Player'} properties={'name': 'Mony'}>>\n"
     ]
    }
   ],
   "source": [
    "#Search all nodes with limit\n",
    "session=graphdb.session()\n",
    "q1=\"MATCH (n) return (n) limit 2\"\n",
    "nodes=list(session.run(q1))\n",
    "for node in nodes:\n",
    "    print (node)"
   ]
  },
  {
   "cell_type": "code",
   "execution_count": 25,
   "metadata": {},
   "outputs": [],
   "source": [
    "#Search all nodes with properties \n",
    "session=graphdb.session()\n",
    "q1=\"MATCH (n) where n.name='Keanu Reeves' return (n)\"\n",
    "nodes=list(session.run(q1))\n",
    "for node in nodes:\n",
    "    print (node)"
   ]
  },
  {
   "cell_type": "code",
   "execution_count": 7,
   "metadata": {},
   "outputs": [
    {
     "name": "stdout",
     "output_type": "stream",
     "text": [
      "<Record n=<Node id=3 labels={'Python'} properties={'name': 'Test1'}>>\n",
      "<Record n=<Node id=4 labels={'Python'} properties={'name': 'Test2'}>>\n",
      "<Record n=<Node id=5 labels={'Python'} properties={'name': 'Test3'}>>\n"
     ]
    }
   ],
   "source": [
    "#Create Multiple Nodes \n",
    "session=graphdb.session()\n",
    "q1=\"Create (M:Python {name:'Test1'}),(N:Python {name:'Test2'}),(O:Python {name:'Test3'})\"\n",
    "session.run(q1)\n",
    "q2=\"MATCH (n) return (n)\"\n",
    "nodes=list(session.run(q2))\n",
    "for node in nodes:\n",
    "    print (node)"
   ]
  },
  {
   "cell_type": "code",
   "execution_count": 6,
   "metadata": {},
   "outputs": [
    {
     "name": "stdout",
     "output_type": "stream",
     "text": [
      "<Record n=<Node id=3 labels={'Player'} properties={'name': 'Rony'}>>\n",
      "<Record n=<Node id=4 labels={'Player'} properties={'name': 'Mony'}>>\n",
      "<Record n=<Node id=5 labels={'Player'} properties={'name': 'Sony'}>>\n"
     ]
    }
   ],
   "source": [
    "#Create Multiple Nodes \n",
    "session=graphdb.session()\n",
    "q1=\"Create (Rony:Player {name:'Rony'}),(Mony:Player {name:'Mony'}),(Sony:Player {name:'Sony'}), (Rony)-[:is_friend_of]->(Mony), (Mony)-[:is_friend_of]->(Sony), (Sony)-[:is_friend_of]->(Rony)\"\n",
    "session.run(q1)\n",
    "q2=\"MATCH (n) return (n)\"\n",
    "nodes=list(session.run(q2))\n",
    "for node in nodes:\n",
    "    print (node)"
   ]
  },
  {
   "cell_type": "code",
   "execution_count": 15,
   "metadata": {},
   "outputs": [],
   "source": [
    "#Searching Friends of Friends\n",
    "q1='''Match (N)-[:Friend]->(P)\n",
    "      Match (P)-[:Friend]->(O)\n",
    "      return O.name'''\n",
    "result=session.run(q1)"
   ]
  },
  {
   "cell_type": "code",
   "execution_count": 16,
   "metadata": {},
   "outputs": [
    {
     "name": "stdout",
     "output_type": "stream",
     "text": [
      "<Record O.name='Moni'>\n",
      "<Record O.name='Moni'>\n"
     ]
    }
   ],
   "source": [
    "for i in result:\n",
    "    print(i)"
   ]
  },
  {
   "cell_type": "code",
   "execution_count": 24,
   "metadata": {},
   "outputs": [],
   "source": [
    "q1='''Match (N:Person{name:\"Soni\"})\n",
    "      set N.age=30\n",
    "      '''\n",
    "result=session.run(q1)"
   ]
  },
  {
   "cell_type": "code",
   "execution_count": 45,
   "metadata": {},
   "outputs": [],
   "source": [
    "#Case when statement\n",
    "q1='''MATCH (N)\n",
    "      RETURN N.name,\n",
    "      CASE N.age\n",
    "      WHEN N.age>20 AND N.age<=23\n",
    "      THEN \"Low\"\n",
    "      WHEN N.age>23 AND N.age<=25\n",
    "      THEN \"Medium\"\n",
    "      ELSE \"High\" END AS Age\n",
    "      '''\n",
    "result=session.run(q1)"
   ]
  },
  {
   "cell_type": "code",
   "execution_count": 46,
   "metadata": {},
   "outputs": [
    {
     "name": "stdout",
     "output_type": "stream",
     "text": [
      "<Record N.name='Moni' Age='High'>\n",
      "<Record N.name='Soni' Age='High'>\n",
      "<Record N.name='Toni' Age='High'>\n",
      "<Record N.name='Koni' Age='High'>\n",
      "<Record N.name='Boni' Age='High'>\n"
     ]
    }
   ],
   "source": [
    "for i in result:\n",
    "    print(i)"
   ]
  },
  {
   "cell_type": "code",
   "execution_count": 49,
   "metadata": {},
   "outputs": [],
   "source": [
    "#add a node dunamically\n",
    "q1='''Create (M:Person{name:$NAME})'''\n",
    "x={\"NAME\":\"loni\"}\n",
    "result=session.run(q1,x)"
   ]
  },
  {
   "cell_type": "code",
   "execution_count": 55,
   "metadata": {},
   "outputs": [
    {
     "name": "stdout",
     "output_type": "stream",
     "text": [
      "<Record result=[1, 2, 3, 4]>\n"
     ]
    }
   ],
   "source": [
    "q1='''with [1,2] as a,\n",
    "      [3,4] as b\n",
    "      return a+b as result'''\n",
    "result=session.run(q1)\n",
    "for i in result:\n",
    "    print(i)"
   ]
  },
  {
   "cell_type": "code",
   "execution_count": 58,
   "metadata": {},
   "outputs": [
    {
     "name": "stdout",
     "output_type": "stream",
     "text": [
      "<Record number=4>\n",
      "<Record number=5>\n"
     ]
    }
   ],
   "source": [
    "q1='''with [1,2,3,4,5] as a\n",
    "      unwind a as number\n",
    "      with number where number in [5,4]\n",
    "      return number'''\n",
    "result=session.run(q1)\n",
    "for i in result:\n",
    "    print(i)"
   ]
  },
  {
   "cell_type": "code",
   "execution_count": null,
   "metadata": {},
   "outputs": [],
   "source": []
  }
 ],
 "metadata": {
  "kernelspec": {
   "display_name": "Python 3",
   "language": "python",
   "name": "python3"
  },
  "language_info": {
   "codemirror_mode": {
    "name": "ipython",
    "version": 3
   },
   "file_extension": ".py",
   "mimetype": "text/x-python",
   "name": "python",
   "nbconvert_exporter": "python",
   "pygments_lexer": "ipython3",
   "version": "3.7.4"
  }
 },
 "nbformat": 4,
 "nbformat_minor": 2
}
