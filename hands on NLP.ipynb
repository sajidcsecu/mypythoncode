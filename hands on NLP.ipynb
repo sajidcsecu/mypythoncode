{
 "cells": [
  {
   "cell_type": "code",
   "execution_count": 9,
   "metadata": {},
   "outputs": [],
   "source": [
    "from nltk.tokenize import sent_tokenize, word_tokenize"
   ]
  },
  {
   "cell_type": "code",
   "execution_count": 8,
   "metadata": {},
   "outputs": [],
   "source": [
    "import nltk"
   ]
  },
  {
   "cell_type": "code",
   "execution_count": 10,
   "metadata": {},
   "outputs": [
    {
     "name": "stderr",
     "output_type": "stream",
     "text": [
      "[nltk_data] Downloading package punkt to\n",
      "[nltk_data]     C:\\Users\\asua\\AppData\\Roaming\\nltk_data...\n",
      "[nltk_data]   Unzipping tokenizers\\punkt.zip.\n"
     ]
    },
    {
     "data": {
      "text/plain": [
       "True"
      ]
     },
     "execution_count": 10,
     "metadata": {},
     "output_type": "execute_result"
    }
   ],
   "source": [
    "nltk.download('punkt')"
   ]
  },
  {
   "cell_type": "code",
   "execution_count": 11,
   "metadata": {},
   "outputs": [],
   "source": [
    "text=\"Running gradient descent on a neural network that large is going to be slow. And to make matters worse, you need a huge amount of training data in order to tune that many weights and avoid over-fitting. millions of weights times billions of training samples means that training this model is going to be a beast.\""
   ]
  },
  {
   "cell_type": "code",
   "execution_count": 12,
   "metadata": {},
   "outputs": [
    {
     "data": {
      "text/plain": [
       "'Running gradient descent on a neural network that large is going to be slow. And to make matters worse, you need a huge amount of training data in order to tune that many weights and avoid over-fitting. millions of weights times billions of training samples means that training this model is going to be a beast.'"
      ]
     },
     "execution_count": 12,
     "metadata": {},
     "output_type": "execute_result"
    }
   ],
   "source": [
    "text"
   ]
  },
  {
   "cell_type": "code",
   "execution_count": 13,
   "metadata": {},
   "outputs": [
    {
     "name": "stdout",
     "output_type": "stream",
     "text": [
      "Sentences :  ['Running gradient descent on a neural network that large is going to be slow.', 'And to make matters worse, you need a huge amount of training data in order to tune that many weights and avoid over-fitting.', 'millions of weights times billions of training samples means that training this model is going to be a beast.']\n"
     ]
    }
   ],
   "source": [
    "nltk_sentences=sent_tokenize(text)\n",
    "print(\"Sentences : \", nltk_sentences)"
   ]
  },
  {
   "cell_type": "code",
   "execution_count": 14,
   "metadata": {},
   "outputs": [
    {
     "name": "stdout",
     "output_type": "stream",
     "text": [
      "Sentences :  ['Running', 'gradient', 'descent', 'on', 'a', 'neural', 'network', 'that', 'large', 'is', 'going', 'to', 'be', 'slow', '.', 'And', 'to', 'make', 'matters', 'worse', ',', 'you', 'need', 'a', 'huge', 'amount', 'of', 'training', 'data', 'in', 'order', 'to', 'tune', 'that', 'many', 'weights', 'and', 'avoid', 'over-fitting', '.', 'millions', 'of', 'weights', 'times', 'billions', 'of', 'training', 'samples', 'means', 'that', 'training', 'this', 'model', 'is', 'going', 'to', 'be', 'a', 'beast', '.']\n"
     ]
    }
   ],
   "source": [
    "nltk_words=word_tokenize(text)\n",
    "print(\"Sentences : \", nltk_words)"
   ]
  },
  {
   "cell_type": "code",
   "execution_count": 16,
   "metadata": {},
   "outputs": [],
   "source": [
    "from nltk.tokenize import RegexpTokenizer"
   ]
  },
  {
   "cell_type": "code",
   "execution_count": 17,
   "metadata": {},
   "outputs": [
    {
     "name": "stdout",
     "output_type": "stream",
     "text": [
      "Tokens :  ['Running', 'gradient', 'descent', 'on', 'a', 'neural', 'network', 'that', 'large', 'is', 'going', 'to', 'be', 'slow', 'And', 'to', 'make', 'matters', 'worse', 'you', 'need', 'a', 'huge', 'amount', 'of', 'training', 'data', 'in', 'order', 'to', 'tune', 'that', 'many', 'weights', 'and', 'avoid', 'over', 'fitting', 'millions', 'of', 'weights', 'times', 'billions', 'of', 'training', 'samples', 'means', 'that', 'training', 'this', 'model', 'is', 'going', 'to', 'be', 'a', 'beast']\n"
     ]
    }
   ],
   "source": [
    "tokenize_text=RegexpTokenizer(r'\\w+')\n",
    "output=tokenize_text.tokenize(text)\n",
    "print(\"Tokens : \", output)"
   ]
  },
  {
   "cell_type": "code",
   "execution_count": 22,
   "metadata": {},
   "outputs": [],
   "source": [
    "from nltk.stem import PorterStemmer"
   ]
  },
  {
   "cell_type": "code",
   "execution_count": 34,
   "metadata": {},
   "outputs": [],
   "source": [
    "#Stemming\n",
    "\n",
    "porter_stem=PorterStemmer()\n",
    "def sentenceStemming(sentence):\n",
    "    tokens=word_tokenize(sentence)\n",
    "    tokens\n",
    "    stemm_token=[]\n",
    "    for word in tokens:\n",
    "        stemm_token.append(porter_stem.stem(word))\n",
    "        stemm_token.append(\" \")\n",
    "    return ''.join(stemm_token) "
   ]
  },
  {
   "cell_type": "code",
   "execution_count": 35,
   "metadata": {},
   "outputs": [
    {
     "name": "stdout",
     "output_type": "stream",
     "text": [
      "I have condens it and made minor adapt . \n"
     ]
    }
   ],
   "source": [
    "sentence=\"I have condensed it and made minor adaptations.\"\n",
    "result=sentenceStemming(sentence)\n",
    "print(result)"
   ]
  },
  {
   "cell_type": "code",
   "execution_count": null,
   "metadata": {},
   "outputs": [],
   "source": []
  }
 ],
 "metadata": {
  "kernelspec": {
   "display_name": "Python 3",
   "language": "python",
   "name": "python3"
  },
  "language_info": {
   "codemirror_mode": {
    "name": "ipython",
    "version": 3
   },
   "file_extension": ".py",
   "mimetype": "text/x-python",
   "name": "python",
   "nbconvert_exporter": "python",
   "pygments_lexer": "ipython3",
   "version": "3.7.4"
  }
 },
 "nbformat": 4,
 "nbformat_minor": 2
}
