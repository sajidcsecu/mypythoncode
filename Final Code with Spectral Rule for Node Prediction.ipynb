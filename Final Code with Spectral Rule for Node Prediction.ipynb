{
 "cells": [
  {
   "cell_type": "code",
   "execution_count": 23,
   "metadata": {},
   "outputs": [],
   "source": [
    "# Imports\n",
    "import numpy as np \n",
    "from random import random\n",
    "from random import seed\n",
    "import networkx as nx\n",
    "from networkx import karate_club_graph, to_numpy_matrix"
   ]
  },
  {
   "cell_type": "code",
   "execution_count": 24,
   "metadata": {},
   "outputs": [],
   "source": [
    "# Convolution Layer\n",
    "def gcn_layer(A, D, X, W):\n",
    "    feature=D* A * D * X * W\n",
    "    feature=np.maximum(0,feature)\n",
    "    return feature\n",
    "def computeweights(G):\n",
    "    seed(1)\n",
    "    W1 = np.random.normal(loc=0, scale=1, size=(G.number_of_nodes(), 6))\n",
    "    seed(1)\n",
    "    W2 = np.random.normal(loc=0, size=(W1.shape[1], 3))\n",
    "    return W1,W2\n",
    "\n",
    "def computedegreematrix(G):\n",
    "    order = sorted(list(G.nodes()))\n",
    "    #nx.draw(G, with_labels=True)\n",
    "    A = nx.to_numpy_matrix(G, nodelist=order)\n",
    "    I = np.eye(G.number_of_nodes())\n",
    "    A_own = A + I\n",
    "    D_own = np.array(np.sum(A_own, axis=0))[0]\n",
    "    D_inv=D_own**-0.5\n",
    "    #print(D_inv)\n",
    "    D_inv = np.matrix(np.diag(D_inv))\n",
    "    #print(D_inv)\n",
    "    return A_own,D_inv,I "
   ]
  },
  {
   "cell_type": "code",
   "execution_count": 28,
   "metadata": {},
   "outputs": [],
   "source": [
    "G= karate_club_graph()\n",
    "W1,W2 = computeweights(G)\n",
    "A_own,D_inv,I = computedegreematrix(G)\n",
    "H1 = gcn_layer(A_own, D_inv, I, W1)\n",
    "H2 = gcn_layer(A_own, D_inv, H1, W2)\n",
    "#H2"
   ]
  },
  {
   "cell_type": "code",
   "execution_count": 34,
   "metadata": {},
   "outputs": [
    {
     "data": {
      "text/plain": [
       "matrix([[0.00628002, 0.        , 0.        , 0.        , 0.        ,\n",
       "         0.        ],\n",
       "        [0.09496139, 0.        , 0.07792515, 0.        , 0.42170812,\n",
       "         0.        ],\n",
       "        [0.45294948, 0.        , 0.        , 0.        , 0.36798735,\n",
       "         0.        ],\n",
       "        [0.00257384, 0.        , 0.        , 0.        , 0.        ,\n",
       "         0.        ],\n",
       "        [0.        , 0.        , 0.        , 0.        , 0.        ,\n",
       "         0.2824819 ],\n",
       "        [0.        , 0.        , 0.        , 0.        , 0.01008815,\n",
       "         0.        ],\n",
       "        [0.        , 0.46886663, 0.        , 0.        , 0.14535008,\n",
       "         0.        ],\n",
       "        [0.        , 0.        , 0.11602858, 0.        , 0.03216087,\n",
       "         0.        ],\n",
       "        [0.        , 0.1213933 , 0.        , 0.        , 0.83696985,\n",
       "         0.        ],\n",
       "        [0.03809431, 0.        , 0.26733328, 0.39946847, 0.45974185,\n",
       "         0.        ],\n",
       "        [0.        , 0.00844397, 0.        , 0.        , 0.        ,\n",
       "         0.12585317],\n",
       "        [0.04623513, 0.        , 0.        , 0.01743441, 0.        ,\n",
       "         0.        ],\n",
       "        [0.        , 0.27951665, 0.        , 0.        , 0.22052671,\n",
       "         0.        ],\n",
       "        [0.        , 0.        , 0.        , 0.        , 0.55940659,\n",
       "         0.        ],\n",
       "        [0.19594526, 0.        , 0.        , 0.        , 0.        ,\n",
       "         0.00114123],\n",
       "        [0.        , 0.00108517, 0.12702565, 0.        , 0.06924853,\n",
       "         0.        ],\n",
       "        [0.        , 0.29319065, 0.        , 0.        , 0.01316022,\n",
       "         0.        ],\n",
       "        [0.10771691, 0.        , 0.40729713, 0.05669302, 0.43782023,\n",
       "         0.        ],\n",
       "        [0.        , 0.        , 0.039498  , 0.        , 0.09858774,\n",
       "         0.18512443],\n",
       "        [0.23449627, 0.        , 0.        , 0.        , 0.34043763,\n",
       "         0.        ],\n",
       "        [0.        , 0.        , 0.        , 0.        , 0.22241368,\n",
       "         0.78373661],\n",
       "        [0.03581213, 0.        , 0.17303894, 0.42878347, 0.        ,\n",
       "         0.        ],\n",
       "        [0.        , 0.        , 0.        , 0.        , 0.32147625,\n",
       "         0.08295227],\n",
       "        [0.        , 0.07132959, 0.17960327, 0.        , 0.        ,\n",
       "         0.49829523],\n",
       "        [0.        , 0.18628252, 0.        , 0.        , 0.        ,\n",
       "         0.21907421],\n",
       "        [0.        , 0.40947749, 0.37909886, 0.        , 0.        ,\n",
       "         0.        ],\n",
       "        [0.        , 0.        , 0.18587667, 0.17384852, 0.        ,\n",
       "         0.        ],\n",
       "        [0.20130488, 0.        , 0.65930391, 0.        , 0.        ,\n",
       "         0.05269203],\n",
       "        [0.02565008, 0.        , 0.10071065, 0.        , 0.30138319,\n",
       "         0.        ],\n",
       "        [0.        , 0.        , 0.53650593, 0.10390883, 0.        ,\n",
       "         0.10557893],\n",
       "        [0.29987061, 0.14309697, 0.        , 0.30827956, 0.51477171,\n",
       "         0.        ],\n",
       "        [0.        , 0.16464972, 0.        , 0.        , 0.        ,\n",
       "         0.        ],\n",
       "        [0.        , 0.        , 0.        , 0.        , 0.        ,\n",
       "         0.        ],\n",
       "        [0.        , 0.        , 0.        , 0.        , 0.        ,\n",
       "         0.        ]])"
      ]
     },
     "execution_count": 34,
     "metadata": {},
     "output_type": "execute_result"
    }
   ],
   "source": [
    "H1"
   ]
  },
  {
   "cell_type": "code",
   "execution_count": 32,
   "metadata": {},
   "outputs": [
    {
     "name": "stdout",
     "output_type": "stream",
     "text": [
      "the number of components 1\n",
      "[ 0  1  3  4  5  6  7 10 11 12 13 16 17 19 21]\n",
      "[0. 0. 0. 0. 0. 0. 0. 0. 0. 0. 0. 0. 0. 0. 0.]\n"
     ]
    },
    {
     "data": {
      "image/png": "[encoded data removed]",
      "text/plain": [
       "<Figure size 432x288 with 1 Axes>"
      ]
     },
     "metadata": {},
     "output_type": "display_data"
    }
   ],
   "source": [
    "# remove edge to construct subgraphs\n",
    "def edge_to_remove(G):\n",
    "    dict1=nx.edge_betweenness_centrality(G)\n",
    "    list_of_tuples=dict1.items()\n",
    "    list_of_tuples=sorted(list_of_tuples,key=lambda X:X[1],reverse=True)\n",
    "    return list_of_tuples[0][0]\n",
    "#Girvan Algorithm\n",
    "def girvan(G):\n",
    "    c=list(nx.connected_component_subgraphs(G))\n",
    "    l=len(c)\n",
    "    print(\"the number of components\",l)\n",
    "    while(l==1):\n",
    "        G.remove_edge(*edge_to_remove(G))\n",
    "        c=list(nx.connected_component_subgraphs(G))\n",
    "        l=len(c)\n",
    "    return c\n",
    "G= nx.karate_club_graph()\n",
    "c=girvan(G)\n",
    "k=1\n",
    "for i in c:\n",
    "    if k==1:\n",
    "        test=i.copy()\n",
    "    k=k+1\n",
    "nx.draw(test, with_labels=True)\n",
    "actual_node = np.array(sorted(list(test.nodes())))\n",
    "print(actual_node)\n",
    "predicted_node=np.zeros(len(actual_node))\n",
    "print(predicted_node)"
   ]
  },
  {
   "cell_type": "code",
   "execution_count": 5,
   "metadata": {},
   "outputs": [
    {
     "data": {
      "text/plain": [
       "matrix([[1.17736711, 0.        , 0.        ],\n",
       "        [0.70029899, 0.        , 0.        ],\n",
       "        [0.54007153, 0.        , 0.        ],\n",
       "        [0.78532134, 0.        , 0.        ],\n",
       "        [0.87672932, 0.        , 0.        ],\n",
       "        [0.96360111, 0.        , 0.        ],\n",
       "        [0.47037482, 0.        , 0.        ],\n",
       "        [0.80426215, 0.        , 0.        ],\n",
       "        [0.59615309, 0.        , 0.        ],\n",
       "        [0.36858929, 0.        , 0.        ],\n",
       "        [0.54794601, 0.        , 0.        ],\n",
       "        [0.76816127, 0.        , 0.        ],\n",
       "        [0.50532653, 0.        , 0.        ],\n",
       "        [0.4349315 , 0.        , 0.        ],\n",
       "        [0.517622  , 0.        , 0.        ]])"
      ]
     },
     "execution_count": 5,
     "metadata": {},
     "output_type": "execute_result"
    }
   ],
   "source": [
    "A_own,D_inv,I,W1,W2 = computeweights(test)\n",
    "H11 = gcn_layer(A_own, D_inv, I, W1)\n",
    "H21 = gcn_layer(A_own, D_inv, H11, W2)\n",
    "H21"
   ]
  },
  {
   "cell_type": "code",
   "execution_count": 6,
   "metadata": {},
   "outputs": [
    {
     "data": {
      "text/plain": [
       "array([0.06158965])"
      ]
     },
     "execution_count": 6,
     "metadata": {},
     "output_type": "execute_result"
    }
   ],
   "source": [
    "similarity_matrix=H21*H2.T\n",
    "max_value=np.array(similarity_matrix.max(1))\n",
    "max_value[1]\n",
    "#similarity_matrix.shape\n",
    "#len(similarity_matrix)"
   ]
  },
  {
   "cell_type": "code",
   "execution_count": 7,
   "metadata": {},
   "outputs": [
    {
     "data": {
      "text/plain": [
       "matrix([[0.        , 0.        , 0.        , 0.        , 0.        ,\n",
       "         0.        , 0.        , 0.        , 0.        , 0.        ,\n",
       "         0.        , 0.        , 0.        , 0.        , 0.00425869,\n",
       "         0.        , 0.        , 0.        , 0.06158965, 0.        ,\n",
       "         0.        , 0.        , 0.00709075, 0.        , 0.        ,\n",
       "         0.        , 0.        , 0.        , 0.        , 0.        ,\n",
       "         0.        , 0.        , 0.        , 0.        ]])"
      ]
     },
     "execution_count": 7,
     "metadata": {},
     "output_type": "execute_result"
    }
   ],
   "source": [
    "similarity_matrix[1,:]"
   ]
  },
  {
   "cell_type": "code",
   "execution_count": 8,
   "metadata": {},
   "outputs": [
    {
     "data": {
      "text/plain": [
       "matrix([[0.        , 0.        , 0.        , 0.        , 0.        ,\n",
       "         0.        , 0.        , 0.        , 0.        , 0.        ,\n",
       "         0.        , 0.        , 0.        , 0.        , 0.00715986,\n",
       "         0.        , 0.        , 0.        , 0.10354667, 0.        ,\n",
       "         0.        , 0.        , 0.01192121, 0.        , 0.        ,\n",
       "         0.        , 0.        , 0.        , 0.        , 0.        ,\n",
       "         0.        , 0.        , 0.        , 0.        ],\n",
       "        [0.        , 0.        , 0.        , 0.        , 0.        ,\n",
       "         0.        , 0.        , 0.        , 0.        , 0.        ,\n",
       "         0.        , 0.        , 0.        , 0.        , 0.00425869,\n",
       "         0.        , 0.        , 0.        , 0.06158965, 0.        ,\n",
       "         0.        , 0.        , 0.00709075, 0.        , 0.        ,\n",
       "         0.        , 0.        , 0.        , 0.        , 0.        ,\n",
       "         0.        , 0.        , 0.        , 0.        ],\n",
       "        [0.        , 0.        , 0.        , 0.        , 0.        ,\n",
       "         0.        , 0.        , 0.        , 0.        , 0.        ,\n",
       "         0.        , 0.        , 0.        , 0.        , 0.00328431,\n",
       "         0.        , 0.        , 0.        , 0.04749802, 0.        ,\n",
       "         0.        , 0.        , 0.00546839, 0.        , 0.        ,\n",
       "         0.        , 0.        , 0.        , 0.        , 0.        ,\n",
       "         0.        , 0.        , 0.        , 0.        ],\n",
       "        [0.        , 0.        , 0.        , 0.        , 0.        ,\n",
       "         0.        , 0.        , 0.        , 0.        , 0.        ,\n",
       "         0.        , 0.        , 0.        , 0.        , 0.00477574,\n",
       "         0.        , 0.        , 0.        , 0.06906716, 0.        ,\n",
       "         0.        , 0.        , 0.00795162, 0.        , 0.        ,\n",
       "         0.        , 0.        , 0.        , 0.        , 0.        ,\n",
       "         0.        , 0.        , 0.        , 0.        ],\n",
       "        [0.        , 0.        , 0.        , 0.        , 0.        ,\n",
       "         0.        , 0.        , 0.        , 0.        , 0.        ,\n",
       "         0.        , 0.        , 0.        , 0.        , 0.00533161,\n",
       "         0.        , 0.        , 0.        , 0.07710628, 0.        ,\n",
       "         0.        , 0.        , 0.00887716, 0.        , 0.        ,\n",
       "         0.        , 0.        , 0.        , 0.        , 0.        ,\n",
       "         0.        , 0.        , 0.        , 0.        ],\n",
       "        [0.        , 0.        , 0.        , 0.        , 0.        ,\n",
       "         0.        , 0.        , 0.        , 0.        , 0.        ,\n",
       "         0.        , 0.        , 0.        , 0.        , 0.0058599 ,\n",
       "         0.        , 0.        , 0.        , 0.08474645, 0.        ,\n",
       "         0.        , 0.        , 0.00975676, 0.        , 0.        ,\n",
       "         0.        , 0.        , 0.        , 0.        , 0.        ,\n",
       "         0.        , 0.        , 0.        , 0.        ],\n",
       "        [0.        , 0.        , 0.        , 0.        , 0.        ,\n",
       "         0.        , 0.        , 0.        , 0.        , 0.        ,\n",
       "         0.        , 0.        , 0.        , 0.        , 0.00286047,\n",
       "         0.        , 0.        , 0.        , 0.04136836, 0.        ,\n",
       "         0.        , 0.        , 0.00476269, 0.        , 0.        ,\n",
       "         0.        , 0.        , 0.        , 0.        , 0.        ,\n",
       "         0.        , 0.        , 0.        , 0.        ],\n",
       "        [0.        , 0.        , 0.        , 0.        , 0.        ,\n",
       "         0.        , 0.        , 0.        , 0.        , 0.        ,\n",
       "         0.        , 0.        , 0.        , 0.        , 0.00489092,\n",
       "         0.        , 0.        , 0.        , 0.07073297, 0.        ,\n",
       "         0.        , 0.        , 0.0081434 , 0.        , 0.        ,\n",
       "         0.        , 0.        , 0.        , 0.        , 0.        ,\n",
       "         0.        , 0.        , 0.        , 0.        ],\n",
       "        [0.        , 0.        , 0.        , 0.        , 0.        ,\n",
       "         0.        , 0.        , 0.        , 0.        , 0.        ,\n",
       "         0.        , 0.        , 0.        , 0.        , 0.00362536,\n",
       "         0.        , 0.        , 0.        , 0.05243026, 0.        ,\n",
       "         0.        , 0.        , 0.00603624, 0.        , 0.        ,\n",
       "         0.        , 0.        , 0.        , 0.        , 0.        ,\n",
       "         0.        , 0.        , 0.        , 0.        ],\n",
       "        [0.        , 0.        , 0.        , 0.        , 0.        ,\n",
       "         0.        , 0.        , 0.        , 0.        , 0.        ,\n",
       "         0.        , 0.        , 0.        , 0.        , 0.00224148,\n",
       "         0.        , 0.        , 0.        , 0.03241656, 0.        ,\n",
       "         0.        , 0.        , 0.00373208, 0.        , 0.        ,\n",
       "         0.        , 0.        , 0.        , 0.        , 0.        ,\n",
       "         0.        , 0.        , 0.        , 0.        ],\n",
       "        [0.        , 0.        , 0.        , 0.        , 0.        ,\n",
       "         0.        , 0.        , 0.        , 0.        , 0.        ,\n",
       "         0.        , 0.        , 0.        , 0.        , 0.0033322 ,\n",
       "         0.        , 0.        , 0.        , 0.04819056, 0.        ,\n",
       "         0.        , 0.        , 0.00554812, 0.        , 0.        ,\n",
       "         0.        , 0.        , 0.        , 0.        , 0.        ,\n",
       "         0.        , 0.        , 0.        , 0.        ],\n",
       "        [0.        , 0.        , 0.        , 0.        , 0.        ,\n",
       "         0.        , 0.        , 0.        , 0.        , 0.        ,\n",
       "         0.        , 0.        , 0.        , 0.        , 0.00467138,\n",
       "         0.        , 0.        , 0.        , 0.06755798, 0.        ,\n",
       "         0.        , 0.        , 0.00777787, 0.        , 0.        ,\n",
       "         0.        , 0.        , 0.        , 0.        , 0.        ,\n",
       "         0.        , 0.        , 0.        , 0.        ],\n",
       "        [0.        , 0.        , 0.        , 0.        , 0.        ,\n",
       "         0.        , 0.        , 0.        , 0.        , 0.        ,\n",
       "         0.        , 0.        , 0.        , 0.        , 0.00307302,\n",
       "         0.        , 0.        , 0.        , 0.04444228, 0.        ,\n",
       "         0.        , 0.        , 0.00511659, 0.        , 0.        ,\n",
       "         0.        , 0.        , 0.        , 0.        , 0.        ,\n",
       "         0.        , 0.        , 0.        , 0.        ],\n",
       "        [0.        , 0.        , 0.        , 0.        , 0.        ,\n",
       "         0.        , 0.        , 0.        , 0.        , 0.        ,\n",
       "         0.        , 0.        , 0.        , 0.        , 0.00264493,\n",
       "         0.        , 0.        , 0.        , 0.0382512 , 0.        ,\n",
       "         0.        , 0.        , 0.00440382, 0.        , 0.        ,\n",
       "         0.        , 0.        , 0.        , 0.        , 0.        ,\n",
       "         0.        , 0.        , 0.        , 0.        ],\n",
       "        [0.        , 0.        , 0.        , 0.        , 0.        ,\n",
       "         0.        , 0.        , 0.        , 0.        , 0.        ,\n",
       "         0.        , 0.        , 0.        , 0.        , 0.00314779,\n",
       "         0.        , 0.        , 0.        , 0.04552364, 0.        ,\n",
       "         0.        , 0.        , 0.00524108, 0.        , 0.        ,\n",
       "         0.        , 0.        , 0.        , 0.        , 0.        ,\n",
       "         0.        , 0.        , 0.        , 0.        ]])"
      ]
     },
     "execution_count": 8,
     "metadata": {},
     "output_type": "execute_result"
    }
   ],
   "source": [
    "similarity_matrix"
   ]
  },
  {
   "cell_type": "code",
   "execution_count": 14,
   "metadata": {},
   "outputs": [],
   "source": [
    "def maxelement(arr,p): \n",
    "    # get number of rows and columns \n",
    "    no_of_rows = len(arr) \n",
    "    no_of_column = len(arr[0]) \n",
    "    for i in range(no_of_rows):   \n",
    "        # Initialize max1 to 0 at beginning \n",
    "        # of finding max element of each row \n",
    "        max1 = 0\n",
    "        for j in range(no_of_column): \n",
    "            if arr[i][j] > max1 : \n",
    "                max1 = arr[i][j]\n",
    "                p[i]=j\n",
    "            #print(max1)\n",
    "            #print(predicted_node[i])\n",
    "    return p\n"
   ]
  },
  {
   "cell_type": "code",
   "execution_count": 19,
   "metadata": {},
   "outputs": [
    {
     "name": "stdout",
     "output_type": "stream",
     "text": [
      "predicted node\n",
      "actual node\n"
     ]
    },
    {
     "data": {
      "text/plain": [
       "array([ 0,  1,  3,  4,  5,  6,  7, 10, 11, 12, 13, 16, 17, 19, 21])"
      ]
     },
     "execution_count": 19,
     "metadata": {},
     "output_type": "execute_result"
    }
   ],
   "source": [
    "predicted_node=maxelement(np.array(similarity_matrix),predicted_node )\n",
    "print(\"predicted node\")\n",
    "predicted_node\n",
    "print(\"actual node\")\n",
    "actual_node"
   ]
  },
  {
   "cell_type": "code",
   "execution_count": 26,
   "metadata": {},
   "outputs": [
    {
     "name": "stdout",
     "output_type": "stream",
     "text": [
      "Zachary's Karate Club\n",
      "the number of components 1\n",
      "------------\n",
      "------------\n"
     ]
    },
    {
     "data": {
      "image/png": "[encoded data removed]",
      "text/plain": [
       "<Figure size 432x288 with 1 Axes>"
      ]
     },
     "metadata": {},
     "output_type": "display_data"
    }
   ],
   "source": [
    "#Community Detection\n",
    "# remove edge to construct subgraphs\n",
    "def edge_to_remove(G):\n",
    "    dict1=nx.edge_betweenness_centrality(G)\n",
    "    list_of_tuples=dict1.items()\n",
    "    list_of_tuples=sorted(list_of_tuples,key=lambda X:X[1],reverse=True)\n",
    "    return list_of_tuples[0][0]\n",
    "#Girvan Algorithm\n",
    "def girvan(G):\n",
    "    c=list(nx.connected_component_subgraphs(G))\n",
    "    l=len(c)\n",
    "    print(\"the number of components\",l)\n",
    "    while(l==1):\n",
    "        G.remove_edge(*edge_to_remove(G))\n",
    "        c=list(nx.connected_component_subgraphs(G))\n",
    "        l=len(c)\n",
    "        #print(\"the number of components\",l)\n",
    "    return c\n",
    "G= nx.karate_club_graph()\n",
    "print(G)\n",
    "#print(\"Main Graph\")\n",
    "#nx.draw(G, with_labels=True)\n",
    "c=girvan(G)\n",
    "#print(\"Communities\")\n",
    "#nx.draw(G, with_labels=True)\n",
    "for i in c:\n",
    "    nx.draw(i, with_labels=True)\n",
    "    A_own,D_inv,I,W1,W2 = computeweights(i)\n",
    "    H11 = gcn_layer(A_own, D_inv, I, W1)\n",
    "    H21 = gcn_layer(A_own, D_inv, H11, W2)\n",
    "    H21\n",
    "    print(\"------------\")\n",
    "#preperation of class label\n",
    "y=np.zeros((G.number_of_nodes(),1))\n",
    "\n",
    "k=0\n",
    "for i in c:\n",
    "    g1=list(i.nodes())\n",
    "    for j in range(i.number_of_nodes()):\n",
    "        y[g1[j]]=k\n",
    "    #print(\"The Number of Nodes : \",i.number_of_nodes())\n",
    "    #print(i.nodes())\n",
    "    #print(\"---------\")\n",
    "    k=k+1\n",
    "#print(\"Labels of class : \",y)"
   ]
  },
  {
   "cell_type": "code",
   "execution_count": 5,
   "metadata": {},
   "outputs": [],
   "source": [
    "# Fully Connected Neural Network\n",
    "\n",
    "# Class definition\n",
    "class FullyConnectedNeuralNetwork:\n",
    "    def __init__(self, x,y):\n",
    "        self.input = np.array(x)\n",
    "        self.weights1= np.random.rand(self.input.shape[1],4) # considering we have 4 nodes in the hidden layer\n",
    "        self.weights2 = np.random.rand(4,1)\n",
    "        self.y = y\n",
    "        self.output = np.zeros(y.shape)\n",
    "    # Activation function\n",
    "    def sigmoid(self, x):\n",
    "        return 1/(1+np.exp(-x))\n",
    "    # Derivative of sigmoid\n",
    "    def sigmoid_derivative(self, x):\n",
    "        return (x * (1 - x))  \n",
    "    #Feed Forward\n",
    "    def feedforward(self):\n",
    "        self.layer1 = self.sigmoid(np.dot(self.input, self.weights1))\n",
    "        self.layer2 = self.sigmoid(np.dot(self.layer1, self.weights2))\n",
    "        return self.layer2\n",
    "    #Backpropagation \n",
    "    def backprop(self):\n",
    "        d_weights2 = np.dot(self.layer1.T, 2*(self.y -self.output)*self.sigmoid_derivative(self.output))\n",
    "        d_weights1 = np.dot(self.input.T, np.dot(2*(self.y -self.output)*\n",
    "                     self.sigmoid_derivative(self.output), self.weights2.T)*self.sigmoid_derivative(self.layer1))\n",
    "        self.weights1 += d_weights1\n",
    "        self.weights2 += d_weights2\n",
    "    #Train\n",
    "    def classfication(self):\n",
    "        fo=np.zeros(self.output.shape)\n",
    "        j=0\n",
    "        for i in self.output:\n",
    "            if i>=0.5:\n",
    "                fo[j]=1\n",
    "            else:\n",
    "                fo[j]=0\n",
    "            j=j+1\n",
    "        return fo\n",
    "    def train(self):\n",
    "        for i in range(100000):\n",
    "            self.output = self.feedforward()\n",
    "            self.backprop()\n",
    "        finaloutput=self.classfication()\n",
    "        #for i in finaloutput:\n",
    "        print(\"Weights1:\")\n",
    "        print(self.weights1)\n",
    "        print(\"-------------\")\n",
    "        print(\"Weights2:\")\n",
    "        print(self.weights2)\n",
    "        print(\"-------------\")\n",
    "        print(\"Predictive Output:\")\n",
    "        print(self.output.T)\n",
    "        print(\"Predictive Output class:\")\n",
    "        print(finaloutput.T)\n",
    "        print(\"Actual Output:\")\n",
    "        print(self.y.T)        "
   ]
  },
  {
   "cell_type": "code",
   "execution_count": 6,
   "metadata": {},
   "outputs": [
    {
     "name": "stdout",
     "output_type": "stream",
     "text": [
      "Weights1:\n",
      "[[ 68.3854465  -87.79439126  -7.20286626  -6.23675942]\n",
      " [-32.79297103  69.64227336  14.35446537  13.66279634]\n",
      " [-75.91808719  65.72544215 -11.05985061 -11.60168985]]\n",
      "-------------\n",
      "Weights2:\n",
      "[[ 43.96707491]\n",
      " [-30.76196801]\n",
      " [ 20.80181236]\n",
      " [ 17.37445294]]\n",
      "-------------\n",
      "Predictive Output:\n",
      "[[4.36778171e-14 4.36778179e-14 9.97513513e-01 4.36778171e-14\n",
      "  4.36778367e-14 4.36778171e-14 4.36778171e-14 4.36798922e-14\n",
      "  1.00000000e+00 1.00000000e+00 4.36778853e-14 4.36778265e-14\n",
      "  4.36778173e-14 2.63548094e-02 1.00000000e+00 9.40383808e-01\n",
      "  4.36778171e-14 3.58080298e-13 1.00000000e+00 5.13863353e-01\n",
      "  4.88527350e-01 3.75337248e-02 1.00000000e+00 1.00000000e+00\n",
      "  9.99393069e-01 9.99367186e-01 1.00000000e+00 1.00000000e+00\n",
      "  1.00000000e+00 1.00000000e+00 1.00000000e+00 9.96821360e-01\n",
      "  9.99999999e-01 1.00000000e+00]]\n",
      "Predictive Output class:\n",
      "[[0. 0. 1. 0. 0. 0. 0. 0. 1. 1. 0. 0. 0. 0. 1. 1. 0. 0. 1. 1. 0. 0. 1. 1.\n",
      "  1. 1. 1. 1. 1. 1. 1. 1. 1. 1.]]\n",
      "Actual Output:\n",
      "[[0. 0. 1. 0. 0. 0. 0. 0. 1. 1. 0. 0. 0. 0. 1. 1. 0. 0. 1. 0. 1. 0. 1. 1.\n",
      "  1. 1. 1. 1. 1. 1. 1. 1. 1. 1.]]\n"
     ]
    }
   ],
   "source": [
    "nn=FullyConnectedNeuralNetwork(H2,y)\n",
    "nn.train()"
   ]
  },
  {
   "cell_type": "code",
   "execution_count": null,
   "metadata": {},
   "outputs": [],
   "source": []
  }
 ],
 "metadata": {
  "kernelspec": {
   "display_name": "Python 3",
   "language": "python",
   "name": "python3"
  },
  "language_info": {
   "codemirror_mode": {
    "name": "ipython",
    "version": 3
   },
   "file_extension": ".py",
   "mimetype": "text/x-python",
   "name": "python",
   "nbconvert_exporter": "python",
   "pygments_lexer": "ipython3",
   "version": "3.7.4"
  }
 },
 "nbformat": 4,
 "nbformat_minor": 2
}
