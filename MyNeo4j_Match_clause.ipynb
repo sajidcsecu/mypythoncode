{
 "cells": [
  {
   "cell_type": "code",
   "execution_count": 1,
   "metadata": {},
   "outputs": [],
   "source": [
    "from neo4j import GraphDatabase, basic_auth\n",
    "graphdb=GraphDatabase.driver(uri=\"bolt://localhost:7687\",auth=basic_auth(\"neo4j\",\"9luoofrq\"),encrypted = False)\n",
    "session=graphdb.session()"
   ]
  },
  {
   "cell_type": "code",
   "execution_count": 3,
   "metadata": {},
   "outputs": [
    {
     "name": "stdout",
     "output_type": "stream",
     "text": [
      "<Record n=<Node id=0 labels={'Player'} properties={'name': 'Ronaldo'}>>\n",
      "<Record n=<Node id=1 labels={'Player'} properties={'name': 'Messi'}>>\n",
      "<Record n=<Node id=2 labels={'Player'} properties={'name': 'Meradona'}>>\n",
      "<Record n=<Node id=3 labels={'Team'} properties={'name': 'Portugal'}>>\n",
      "<Record n=<Node id=4 labels={'Team'} properties={'name': 'RealMadrid'}>>\n",
      "<Record n=<Node id=5 labels={'Team'} properties={'name': 'Argentina'}>>\n"
     ]
    }
   ],
   "source": [
    "#Match all nodes\n",
    "q1='''Match (n) Return (n)'''\n",
    "result=session.run(q1)\n",
    "for i in result:\n",
    "    print(i)"
   ]
  },
  {
   "cell_type": "code",
   "execution_count": 5,
   "metadata": {},
   "outputs": [
    {
     "name": "stdout",
     "output_type": "stream",
     "text": [
      "<Record N=<Node id=0 labels={'Player'} properties={'name': 'Ronaldo'}> type(R)='Played_for' M=<Node id=3 labels={'Team'} properties={'name': 'Portugal'}>>\n",
      "<Record N=<Node id=0 labels={'Player'} properties={'name': 'Ronaldo'}> type(R)='Played_for' M=<Node id=4 labels={'Team'} properties={'name': 'RealMadrid'}>>\n",
      "<Record N=<Node id=2 labels={'Player'} properties={'name': 'Meradona'}> type(R)='Played_for' M=<Node id=5 labels={'Team'} properties={'name': 'Argentina'}>>\n",
      "<Record N=<Node id=1 labels={'Player'} properties={'name': 'Messi'}> type(R)='Played_for' M=<Node id=5 labels={'Team'} properties={'name': 'Argentina'}>>\n"
     ]
    }
   ],
   "source": [
    "#Match Relations\n",
    "q1='''Match (N)-[R]->(M)\n",
    "Return (N),type(R),(M)'''\n",
    "result=session.run(q1)\n",
    "for i in result:\n",
    "    print(i)"
   ]
  },
  {
   "cell_type": "code",
   "execution_count": null,
   "metadata": {},
   "outputs": [],
   "source": []
  }
 ],
 "metadata": {
  "kernelspec": {
   "display_name": "Python 3",
   "language": "python",
   "name": "python3"
  },
  "language_info": {
   "codemirror_mode": {
    "name": "ipython",
    "version": 3
   },
   "file_extension": ".py",
   "mimetype": "text/x-python",
   "name": "python",
   "nbconvert_exporter": "python",
   "pygments_lexer": "ipython3",
   "version": "3.7.4"
  }
 },
 "nbformat": 4,
 "nbformat_minor": 2
}
