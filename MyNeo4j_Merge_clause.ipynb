{
 "cells": [
  {
   "cell_type": "code",
   "execution_count": 1,
   "metadata": {},
   "outputs": [],
   "source": [
    "from neo4j import GraphDatabase, basic_auth\n",
    "graphdb=GraphDatabase.driver(uri=\"bolt://localhost:7687\",auth=basic_auth(\"neo4j\",\"9luoofrq\"),encrypted = False)\n",
    "session=graphdb.session()"
   ]
  },
  {
   "cell_type": "code",
   "execution_count": 12,
   "metadata": {},
   "outputs": [],
   "source": [
    "q1='''Match (n) Detach Delete (n)'''\n",
    "result=session.run(q1)\n",
    "for i in result:\n",
    "    print(i)"
   ]
  },
  {
   "cell_type": "code",
   "execution_count": 13,
   "metadata": {},
   "outputs": [],
   "source": [
    "q1='''Match (n) Return (n)'''\n",
    "result=session.run(q1)\n",
    "for i in result:\n",
    "    print(i)"
   ]
  },
  {
   "cell_type": "code",
   "execution_count": 14,
   "metadata": {},
   "outputs": [
    {
     "data": {
      "text/plain": [
       "<neo4j.BoltStatementResult at 0x1b2c6fe4c48>"
      ]
     },
     "execution_count": 14,
     "metadata": {},
     "output_type": "execute_result"
    }
   ],
   "source": [
    "q1='''create (A:Player{name:\"Messi\",Plays_for:\"Argentina\"}),(B:Player{name:\"Ronaldo\",Plays_for:\"Brazil\"}),(C:Player{name:\"Bebeto\",Plays_for:\"France\"})\n",
    "            '''\n",
    "session.run(q1)"
   ]
  },
  {
   "cell_type": "code",
   "execution_count": 15,
   "metadata": {},
   "outputs": [
    {
     "data": {
      "text/plain": [
       "<neo4j.BoltStatementResult at 0x1b2c6fe7488>"
      ]
     },
     "execution_count": 15,
     "metadata": {},
     "output_type": "execute_result"
    }
   ],
   "source": [
    "q1='''Match(A:Player)\n",
    "      Merge (B:Country{name:A.Plays_for})\n",
    "            '''\n",
    "session.run(q1)"
   ]
  },
  {
   "cell_type": "code",
   "execution_count": 22,
   "metadata": {},
   "outputs": [
    {
     "name": "stdout",
     "output_type": "stream",
     "text": [
      "<Record n=<Node id=0 labels={'Country'} properties={'name': 'Argentina'}>>\n",
      "<Record n=<Node id=2 labels={'Player'} properties={'creation_time': 1586106588496, 'name': 'Messi'}>>\n",
      "<Record n=<Node id=3 labels={'Player'} properties={'Plays_for': 'Brazil', 'name': 'Ronaldo'}>>\n",
      "<Record n=<Node id=4 labels={'Player'} properties={'Plays_for': 'France', 'name': 'Bebeto'}>>\n",
      "<Record n=<Node id=5 labels={'Country'} properties={'name': 'Brazil'}>>\n",
      "<Record n=<Node id=6 labels={'Country'} properties={'name': 'France'}>>\n"
     ]
    }
   ],
   "source": [
    "q1='''Match (n) Return (n)'''\n",
    "result=session.run(q1)\n",
    "for i in result:\n",
    "    print(i)"
   ]
  },
  {
   "cell_type": "code",
   "execution_count": 24,
   "metadata": {},
   "outputs": [],
   "source": [
    "# Merge on create set\n",
    "q1='''Merge (A:Player{name:\"Messi\"})\n",
    "      on create set A.creation_time=timestamp()\n",
    "      return A.creation_time\n",
    "            '''\n",
    "result=session.run(q1)"
   ]
  },
  {
   "cell_type": "code",
   "execution_count": 29,
   "metadata": {},
   "outputs": [],
   "source": [
    "q1='''Match (n) Return (n)'''\n",
    "result=session.run(q1)\n",
    "for i in result:\n",
    "    print(i)"
   ]
  },
  {
   "cell_type": "code",
   "execution_count": 23,
   "metadata": {},
   "outputs": [],
   "source": [
    "q1='''match (n:Player{name:\"Messi\"}) delete (n)'''\n",
    "result=session.run(q1)"
   ]
  },
  {
   "cell_type": "code",
   "execution_count": 26,
   "metadata": {},
   "outputs": [
    {
     "data": {
      "text/plain": [
       "<neo4j.BoltStatementResult at 0x1b2c6ff2588>"
      ]
     },
     "execution_count": 26,
     "metadata": {},
     "output_type": "execute_result"
    }
   ],
   "source": [
    "# Merge on match set\n",
    "q1='''Merge (A:Player{name:\"Messi\"})\n",
    "      on match set A.country=\"Argentina\"\n",
    "      return A.country\n",
    "            '''\n",
    "result=session.run(q1)\n",
    "result"
   ]
  },
  {
   "cell_type": "code",
   "execution_count": 28,
   "metadata": {},
   "outputs": [],
   "source": [
    "q1='''Match (n) Detach Delete (n)'''\n",
    "result=session.run(q1)\n",
    "for i in result:\n",
    "    print(i)"
   ]
  },
  {
   "cell_type": "code",
   "execution_count": 32,
   "metadata": {},
   "outputs": [
    {
     "name": "stdout",
     "output_type": "stream",
     "text": [
      "<Record A.country='Argentina' A.club='Bercilona'>\n"
     ]
    }
   ],
   "source": [
    "# Merge  on create and on match set together\n",
    "q1='''Merge (A:Player{name:\"Messi\"})\n",
    "      on create set A.country=\"Argentina\"\n",
    "      on match set A.club=\"Bercilona\"\n",
    "      return A.country,A.club\n",
    "            '''\n",
    "result=session.run(q1)\n",
    "for i in result:\n",
    "    print(i)"
   ]
  },
  {
   "cell_type": "code",
   "execution_count": 37,
   "metadata": {},
   "outputs": [
    {
     "name": "stdout",
     "output_type": "stream",
     "text": [
      "<Record A=<Node id=4 labels={'Player'} properties={'name': 'Messi'}> type(C)='plays_for' B=<Node id=5 labels={'Country'} properties={'name': 'Argentina'}>>\n"
     ]
    }
   ],
   "source": [
    "# merge relationship\n",
    "q1='''Match (n) Detach Delete (n)'''\n",
    "result=session.run(q1)\n",
    "for i in result:\n",
    "    print(i)\n",
    "q1='''create (A:Player{name:\"Messi\"}),(B:Country{name:\"Argentina\"})'''\n",
    "session.run(q1)\n",
    "q1='''match (A:Player{name:\"Messi\"}),(B:Country{name:\"Argentina\"})\n",
    "      merge (A)-[C:plays_for]->(B)\n",
    "      return A,type(C),B'''\n",
    "result=session.run(q1)\n",
    "for i in result:\n",
    "    print(i)"
   ]
  },
  {
   "cell_type": "code",
   "execution_count": 38,
   "metadata": {},
   "outputs": [
    {
     "name": "stdout",
     "output_type": "stream",
     "text": [
      "<Record A=<Node id=6 labels={'Player'} properties={'name': 'Messi'}> B=<Node id=0 labels={'Country'} properties={'name': 'Argentina'}> C=<Node id=2 labels={'Club'} properties={'name': 'Bercilona'}>>\n"
     ]
    }
   ],
   "source": [
    "# merge relationship\n",
    "q1='''Match (n) Detach Delete (n)'''\n",
    "result=session.run(q1)\n",
    "for i in result:\n",
    "    print(i)\n",
    "q1='''create (A:Player{name:\"Messi\"}),(B:Country{name:\"Argentina\"})'''\n",
    "session.run(q1)\n",
    "q1='''match (A:Player{name:\"Messi\"}),(B:Country{name:\"Argentina\"})\n",
    "      merge (C:Club{name:\"Bercilona\"})<-[r2:plays_for]-(A)-[r1:lives]->(B)\n",
    "      return A,B,C'''\n",
    "result=session.run(q1)\n",
    "for i in result:\n",
    "    print(i)"
   ]
  },
  {
   "cell_type": "code",
   "execution_count": 51,
   "metadata": {},
   "outputs": [
    {
     "name": "stdout",
     "output_type": "stream",
     "text": [
      "<Record team_name=['Bercilona']>\n",
      "<Record team_name=['Juvintas']>\n"
     ]
    }
   ],
   "source": [
    "#distinct operator\n",
    "q1='''Match (n) Detach Delete (n)'''\n",
    "result=session.run(q1)\n",
    "\n",
    "q1='''create (A:Player{name:\"Messi\"}),(B:Player{name:\"Surarez\"}),(C:Player{name:\"Ronaldu\"})'''\n",
    "result=session.run(q1)\n",
    "\n",
    "q1='''create (A:team{name:\"Bercilona\"}),(B:team{name:\"Juvintas\"})'''\n",
    "result=session.run(q1)\n",
    "\n",
    "q1='''match (A:Player{name:\"Messi\"}),(B:team{name:\"Bercilona\"}) \n",
    "      create (A)-[R:plays]->(B)\n",
    "      '''\n",
    "result=session.run(q1)\n",
    "q1='''match (A:Player{name:\"Surarez\"}),(B:team{name:\"Bercilona\"}) \n",
    "      create (A)-[R:plays]->(B)\n",
    "      '''\n",
    "result=session.run(q1)\n",
    "q1='''match (A:Player{name:\"Ronaldu\"}),(B:team{name:\"Juvintas\"}) \n",
    "      create (A)-[R:plays]->(B)\n",
    "      '''\n",
    "result=session.run(q1)\n",
    "\n",
    "q1='''match (A:Player)\n",
    "      with [(A)-[R:plays]->(B) where B:team|B.name] as teams\n",
    "      return distinct(teams) as team_name\n",
    "      '''\n",
    "result=session.run(q1)\n",
    "for i in result:\n",
    "    print(i)"
   ]
  },
  {
   "cell_type": "code",
   "execution_count": 57,
   "metadata": {},
   "outputs": [
    {
     "name": "stdout",
     "output_type": "stream",
     "text": [
      "<Record Average_Age=30.25>\n",
      "<Record Age_list=[33, 26, 31, 31]>\n",
      "<Record Max_Age=33>\n",
      "<Record Min_Age=26>\n",
      "<Record Total_Age=121>\n",
      "<Record properties=['name', 'age']>\n",
      "<Record properties=['name', 'age']>\n",
      "<Record properties=['name', 'age']>\n",
      "<Record properties=['name', 'age']>\n"
     ]
    }
   ],
   "source": [
    "# Average  and collect operator\n",
    "q1='''Match (n) Detach Delete (n)'''\n",
    "result=session.run(q1)\n",
    "\n",
    "q1='''create (A:Player{name:\"Messi\",age:31}),(B:Player{name:\"Surarez\",age:31}),(C:Player{name:\"Ronaldu\",age:33}),\n",
    "      (D:Player{name:\"Nymer\",age:26})'''\n",
    "result=session.run(q1)\n",
    "\n",
    "q1='''match (A:Player)\n",
    "      return AVG(A.age) as Average_Age\n",
    "      '''\n",
    "result=session.run(q1)\n",
    "for i in result:\n",
    "    print(i)\n",
    "    \n",
    "q1='''match (A:Player)\n",
    "      return collect(A.age) as Age_list\n",
    "      '''\n",
    "result=session.run(q1)\n",
    "for i in result:\n",
    "    print(i)\n",
    "\n",
    "q1='''match (A:Player)\n",
    "      return Max(A.age) as Max_Age\n",
    "      '''\n",
    "result=session.run(q1)\n",
    "for i in result:\n",
    "    print(i)\n",
    "\n",
    "q1='''match (A:Player)\n",
    "      return Min(A.age) as Min_Age\n",
    "      '''\n",
    "result=session.run(q1)\n",
    "for i in result:\n",
    "    print(i)\n",
    "\n",
    "q1='''match (A:Player)\n",
    "      return Sum(A.age) as Total_Age\n",
    "      '''\n",
    "result=session.run(q1)\n",
    "for i in result:\n",
    "    print(i)\n",
    "    \n",
    "q1='''match (A:Player)\n",
    "      return keys(A) as properties\n",
    "      '''\n",
    "result=session.run(q1)\n",
    "for i in result:\n",
    "    print(i)"
   ]
  },
  {
   "cell_type": "code",
   "execution_count": 60,
   "metadata": {},
   "outputs": [],
   "source": [
    "# delete with limit\n",
    "q1='''Match (n) Detach Delete (n)'''\n",
    "result=session.run(q1)\n",
    "q1='''foreach (i in range(1,10) | create (N:Shirts))'''\n",
    "result=session.run(q1)\n",
    "for i in result:\n",
    "    print(i)\n",
    "q1='''match (N:Shirts)\n",
    "      with (N) limit 2\n",
    "      delete (N)'''\n",
    "result=session.run(q1)"
   ]
  },
  {
   "cell_type": "code",
   "execution_count": 63,
   "metadata": {},
   "outputs": [],
   "source": [
    "#use case for update \n",
    "q1='''Match (n) Detach Delete (n)'''\n",
    "result=session.run(q1)\n",
    "\n",
    "q1='''foreach (i in range(1,10) | create (N:Shirts))'''\n",
    "result=session.run(q1)\n",
    "\n",
    "q1='''foreach (i in range(1,10) | create (N:TiShirts))'''\n",
    "result=session.run(q1)\n",
    "\n",
    "q1='''foreach (i in range(1,10) | create (N:Jeans))'''\n",
    "result=session.run(q1)"
   ]
  },
  {
   "cell_type": "code",
   "execution_count": 66,
   "metadata": {},
   "outputs": [
    {
     "name": "stdout",
     "output_type": "stream",
     "text": [
      "[<Record n.name='Roni' labels(n)=['employee']>]\n"
     ]
    }
   ],
   "source": [
    "# set labels \n",
    "q1='''Match (n) Detach Delete (n)'''\n",
    "result=session.run(q1)\n",
    "\n",
    "q1='''create (n{name:\"Roni\"}) return (n) '''\n",
    "result=session.run(q1)\n",
    "\n",
    "q1='''match (n{name:\"Roni\"}) \n",
    "      set n:employee\n",
    "      return n.name,labels(n) '''\n",
    "result=session.run(q1)\n",
    "print(list(result))"
   ]
  },
  {
   "cell_type": "code",
   "execution_count": 68,
   "metadata": {},
   "outputs": [],
   "source": [
    "# delete relationship\n",
    "q1='''Match (n) Detach Delete (n)'''\n",
    "result=session.run(q1)\n",
    "\n",
    "q1='''create (A:Employee{name:\"Roni\"}),(B:Employee{name:\"Moni\"}),(C:Employee{name:\"Toni\"}),\n",
    "      (A)-[:brother]->(B)-[:brother]->(C)'''\n",
    "result=session.run(q1)\n",
    "\n",
    "q1='''match (A:Employee{name:\"Roni\"})-[R:brother]->(B:Employee{name:\"Moni\"})\n",
    "     delete (R)'''\n",
    "result=session.run(q1)\n"
   ]
  },
  {
   "cell_type": "code",
   "execution_count": 74,
   "metadata": {},
   "outputs": [
    {
     "name": "stdout",
     "output_type": "stream",
     "text": [
      "[<Record nodes(path)=[<Node id=12 labels={'Employee'} properties={'name': 'Roni'}>, <Node id=19 labels={'Employee'} properties={'name': 'Moni'}>, <Node id=20 labels={'Employee'} properties={'name': 'Toni'}>]>]\n"
     ]
    }
   ],
   "source": [
    "# finding path\n",
    "q1='''Match (n) Detach Delete (n)'''\n",
    "result=session.run(q1)\n",
    "\n",
    "q1='''create (A:Employee{name:\"Roni\"}),(B:Employee{name:\"Moni\"}),(C:Employee{name:\"Toni\"}),(D:Employee{name:\"Soni\"}),\n",
    "      (A)-[:knows]->(B)-[:knows]->(C),\n",
    "      (A)-[:knows]->(D)'''\n",
    "session.run(q1)\n",
    "\n",
    "q1='''match path=(A:Employee)-[*1..2]->(B:Employee)\n",
    "      where A.name=\"Roni\" and B.name=\"Toni\"\n",
    "      return nodes(path)'''\n",
    "result=session.run(q1)\n",
    "print(list(result))"
   ]
  },
  {
   "cell_type": "code",
   "execution_count": null,
   "metadata": {},
   "outputs": [],
   "source": []
  }
 ],
 "metadata": {
  "kernelspec": {
   "display_name": "Python 3",
   "language": "python",
   "name": "python3"
  },
  "language_info": {
   "codemirror_mode": {
    "name": "ipython",
    "version": 3
   },
   "file_extension": ".py",
   "mimetype": "text/x-python",
   "name": "python",
   "nbconvert_exporter": "python",
   "pygments_lexer": "ipython3",
   "version": "3.7.4"
  }
 },
 "nbformat": 4,
 "nbformat_minor": 2
}
