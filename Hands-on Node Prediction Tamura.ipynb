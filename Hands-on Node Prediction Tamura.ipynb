{
 "cells": [
  {
   "cell_type": "code",
   "execution_count": 1,
   "metadata": {},
   "outputs": [],
   "source": [
    "# Imports\n",
    "import numpy as np \n",
    "import networkx as nx\n",
    "from random import seed\n",
    "import math\n",
    "from networkx import karate_club_graph, to_numpy_matrix"
   ]
  },
  {
   "cell_type": "code",
   "execution_count": 2,
   "metadata": {},
   "outputs": [],
   "source": [
    "def computematrixes (G):\n",
    "    order = sorted(list(G.nodes()))\n",
    "    A = nx.to_numpy_matrix(G, nodelist=order)\n",
    "    I = np.eye(G.number_of_nodes())\n",
    "    A_own = A + I\n",
    "    D_own = np.array(np.sum(A_own, axis=0))[0]\n",
    "    D_inv=D_own**(-.5)\n",
    "    D_inv = np.matrix(np.diag(D_inv))\n",
    "    return A_own,D_inv,I\n"
   ]
  },
  {
   "cell_type": "code",
   "execution_count": 3,
   "metadata": {},
   "outputs": [],
   "source": [
    "def gcn_layer(A, D, X, W):\n",
    "    feature=D * A * D * X * W\n",
    "    feature=1 / (1 + np.exp(-feature))\n",
    "    return feature"
   ]
  },
  {
   "cell_type": "code",
   "execution_count": 4,
   "metadata": {},
   "outputs": [
    {
     "name": "stderr",
     "output_type": "stream",
     "text": [
      "C:\\ProgramData\\Anaconda3\\lib\\site-packages\\networkx\\drawing\\nx_pylab.py:579: MatplotlibDeprecationWarning: \n",
      "The iterable function was deprecated in Matplotlib 3.1 and will be removed in 3.3. Use np.iterable instead.\n",
      "  if not cb.iterable(width):\n"
     ]
    }
   ],
   "source": [
    "G= nx.Graph()\n",
    "G.add_edges_from([(0,1), (0,2), (0,3), (1,2), (2,4), (2,5), (4,5)])\n",
    "nx.draw(G, with_labels=True)"
   ]
  },
  {
   "cell_type": "code",
   "execution_count": 5,
   "metadata": {},
   "outputs": [],
   "source": [
    "seed(1)\n",
    "W1 = np.random.normal(loc=0, scale=1, size=(G.number_of_nodes(), 4))\n",
    "seed(1)\n",
    "W2 = np.random.normal(loc=0, size=(W1.shape[1], 2))"
   ]
  },
  {
   "cell_type": "code",
   "execution_count": 6,
   "metadata": {},
   "outputs": [],
   "source": [
    "A_own,D_inv,I= computematrixes (G)\n",
    "H1 = gcn_layer(A_own, D_inv, I, W1)\n",
    "H2 = gcn_layer(A_own, D_inv, H1, W2)"
   ]
  },
  {
   "cell_type": "code",
   "execution_count": 7,
   "metadata": {},
   "outputs": [],
   "source": [
    "output=H2"
   ]
  },
  {
   "cell_type": "code",
   "execution_count": 8,
   "metadata": {},
   "outputs": [],
   "source": [
    "feature_representations = {\n",
    "    node: np.array(output)[node] \n",
    "    for node in G.nodes()}"
   ]
  },
  {
   "cell_type": "code",
   "execution_count": 9,
   "metadata": {},
   "outputs": [
    {
     "data": {
      "text/plain": [
       "{0: array([0.71061664, 0.25519359]),\n",
       " 1: array([0.65245179, 0.30342327]),\n",
       " 2: array([0.66258862, 0.22556656]),\n",
       " 3: array([0.68424622, 0.30381681]),\n",
       " 4: array([0.59854025, 0.26575417]),\n",
       " 5: array([0.59854025, 0.26575417])}"
      ]
     },
     "execution_count": 9,
     "metadata": {},
     "output_type": "execute_result"
    }
   ],
   "source": [
    "feature_representations"
   ]
  },
  {
   "cell_type": "code",
   "execution_count": 10,
   "metadata": {},
   "outputs": [
    {
     "data": {
      "image/png": "[encoded data removed]",
      "text/plain": [
       "<Figure size 432x288 with 1 Axes>"
      ]
     },
     "metadata": {},
     "output_type": "display_data"
    }
   ],
   "source": [
    "test= nx.Graph()\n",
    "test.add_edges_from([(0,1), (0,2), (0,3), (1,2), (2,4), (2,5), (4,5)])\n",
    "nx.draw(test, with_labels=True)"
   ]
  },
  {
   "cell_type": "code",
   "execution_count": 14,
   "metadata": {},
   "outputs": [
    {
     "data": {
      "text/plain": [
       "matrix([[0.71061664, 0.25519359],\n",
       "        [0.65245179, 0.30342327],\n",
       "        [0.66258862, 0.22556656],\n",
       "        [0.68424622, 0.30381681],\n",
       "        [0.59854025, 0.26575417],\n",
       "        [0.59854025, 0.26575417]])"
      ]
     },
     "execution_count": 14,
     "metadata": {},
     "output_type": "execute_result"
    }
   ],
   "source": [
    "test_A_own,test_D_inv,test_I= computematrixes (test)\n",
    "test_order = sorted(list(test.nodes()))\n",
    "test_W1=np.empty((len(test_order),W1.shape[1]))\n",
    "for i in range(len(test_order)):\n",
    "    for j in range(W1.shape[1]):\n",
    "        test_W1[i][j]=W1[test_order[i]][j]\n",
    "test_H1= gcn_layer(test_A_own, test_D_inv, test_I, test_W1)\n",
    "test_W2=W2\n",
    "test_H2 = gcn_layer(test_A_own, test_D_inv, test_H1, test_W2)\n",
    "test_H2"
   ]
  },
  {
   "cell_type": "code",
   "execution_count": 12,
   "metadata": {},
   "outputs": [
    {
     "data": {
      "text/plain": [
       "matrix([[0.57009977, 0.54107477, 0.52840963, 0.56376885, 0.49315142,\n",
       "         0.49315142],\n",
       "        [0.54107477, 0.51775902, 0.50074927, 0.53862276, 0.47115466,\n",
       "         0.47115466],\n",
       "        [0.52840963, 0.50074927, 0.48990395, 0.52190467, 0.45653121,\n",
       "         0.45653121],\n",
       "        [0.56376885, 0.53862276, 0.52190467, 0.56049754, 0.49028949,\n",
       "         0.49028949],\n",
       "        [0.49315142, 0.47115466, 0.45653121, 0.49028949, 0.42887571,\n",
       "         0.42887571],\n",
       "        [0.49315142, 0.47115466, 0.45653121, 0.49028949, 0.42887571,\n",
       "         0.42887571]])"
      ]
     },
     "execution_count": 12,
     "metadata": {},
     "output_type": "execute_result"
    }
   ],
   "source": [
    "similarity_matrix=test_H2*H2.T\n",
    "similarity_matrix"
   ]
  },
  {
   "cell_type": "code",
   "execution_count": 13,
   "metadata": {},
   "outputs": [
    {
     "name": "stdout",
     "output_type": "stream",
     "text": [
      "Actual Nodes: \n",
      "[0 1 2 3 4 5]\n",
      "Predicted Nodes: \n",
      "[0. 0. 0. 0. 0. 0.]\n"
     ]
    }
   ],
   "source": [
    "def maxelement(arr,p): \n",
    "    # get number of rows and columns \n",
    "    no_of_rows = len(arr) \n",
    "    no_of_column = len(arr[0]) \n",
    "    for i in range(no_of_rows):   \n",
    "        # Initialize max1 to 0 at beginning \n",
    "        # of finding max element of each row \n",
    "        max1 = 0\n",
    "        for j in range(no_of_column): \n",
    "            if arr[i][j] > max1 : \n",
    "                max1 = arr[i][j]\n",
    "                p[i]=j\n",
    "            #print(max1)\n",
    "            #print(predicted_node[i])\n",
    "    return p\n",
    "actual_node = np.array(sorted(list(test.nodes())))\n",
    "print(\"Actual Nodes: \")\n",
    "print(actual_node)\n",
    "predicted_node=np.zeros(len(actual_node))\n",
    "predicted_node=maxelement(np.array(similarity_matrix),predicted_node)\n",
    "print(\"Predicted Nodes: \")\n",
    "print(predicted_node)"
   ]
  }
 ],
 "metadata": {
  "kernelspec": {
   "display_name": "Python 3",
   "language": "python",
   "name": "python3"
  },
  "language_info": {
   "codemirror_mode": {
    "name": "ipython",
    "version": 3
   },
   "file_extension": ".py",
   "mimetype": "text/x-python",
   "name": "python",
   "nbconvert_exporter": "python",
   "pygments_lexer": "ipython3",
   "version": "3.7.4"
  }
 },
 "nbformat": 4,
 "nbformat_minor": 2
}
