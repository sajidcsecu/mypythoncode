{
 "cells": [
  {
   "cell_type": "code",
   "execution_count": 1,
   "metadata": {},
   "outputs": [],
   "source": [
    "# Imports\n",
    "import numpy as np \n",
    "import random\n",
    "import networkx as nx\n",
    "from networkx import karate_club_graph, to_numpy_matrix"
   ]
  },
  {
   "cell_type": "code",
   "execution_count": 2,
   "metadata": {},
   "outputs": [],
   "source": [
    "# Convolution Layer\n",
    "G= karate_club_graph()\n",
    "order = sorted(list(G.nodes()))\n",
    "#nx.draw(G, with_labels=True)\n",
    "A = nx.to_numpy_matrix(G, nodelist=order)\n",
    "I = np.eye(G.number_of_nodes())\n",
    "A_own = A + I\n",
    "D_own = np.array(np.sum(A_own, axis=0))[0]\n",
    "D_inv=D_own**-0.5\n",
    "D_inv = np.matrix(np.diag(D_inv))\n",
    "W1 = np.random.normal(loc=0, scale=1, size=(G.number_of_nodes(), 6))\n",
    "W2 = np.random.normal(loc=0, size=(W1.shape[1], 3))\n",
    "def gcn_layer(A, D, X, W):\n",
    "    feature=D* A * D * X * W\n",
    "    feature=np.maximum(0,feature)\n",
    "    return feature\n",
    "H1 = gcn_layer(A_own, D_inv, I, W1)\n",
    "H2 = gcn_layer(A_own, D_inv, H1, W2)\n",
    "#H2"
   ]
  },
  {
   "cell_type": "code",
   "execution_count": 3,
   "metadata": {},
   "outputs": [
    {
     "name": "stdout",
     "output_type": "stream",
     "text": [
      "the number of components 1\n"
     ]
    },
    {
     "name": "stderr",
     "output_type": "stream",
     "text": [
      "C:\\ProgramData\\Anaconda3\\lib\\site-packages\\networkx\\drawing\\nx_pylab.py:579: MatplotlibDeprecationWarning: \n",
      "The iterable function was deprecated in Matplotlib 3.1 and will be removed in 3.3. Use np.iterable instead.\n",
      "  if not cb.iterable(width):\n"
     ]
    }
   ],
   "source": [
    "#Community Detection\n",
    "# remove edge to construct subgraphs\n",
    "def edge_to_remove(G):\n",
    "    dict1=nx.edge_betweenness_centrality(G)\n",
    "    list_of_tuples=dict1.items()\n",
    "    list_of_tuples=sorted(list_of_tuples,key=lambda X:X[1],reverse=True)\n",
    "    return list_of_tuples[0][0]\n",
    "#Girvan Algorithm\n",
    "def girvan(G):\n",
    "    c=list(nx.connected_component_subgraphs(G))\n",
    "    l=len(c)\n",
    "    print(\"the number of components\",l)\n",
    "    while(l==1):\n",
    "        G.remove_edge(*edge_to_remove(G))\n",
    "        c=list(nx.connected_component_subgraphs(G))\n",
    "        l=len(c)\n",
    "        #print(\"the number of components\",l)\n",
    "    return c\n",
    "G= nx.karate_club_graph()\n",
    "#print(\"Main Graph\")\n",
    "#nx.draw(G, with_labels=True)\n",
    "c=girvan(G)\n",
    "#print(\"Communities\")\n",
    "nx.draw(G, with_labels=True)\n",
    "#preperation of class label\n",
    "y=np.zeros((G.number_of_nodes(),1))\n",
    "#print(\"------------\")\n",
    "k=0\n",
    "for i in c:\n",
    "    g1=list(i.nodes())\n",
    "    for j in range(i.number_of_nodes()):\n",
    "        y[g1[j]]=k\n",
    "    #print(\"The Number of Nodes : \",i.number_of_nodes())\n",
    "    #print(i.nodes())\n",
    "    #print(\"---------\")\n",
    "    k=k+1\n",
    "#print(\"Labels of class : \",y)"
   ]
  },
  {
   "cell_type": "code",
   "execution_count": 4,
   "metadata": {},
   "outputs": [],
   "source": [
    "# Fully Connected Neural Network\n",
    "\n",
    "# Class definition\n",
    "class FullyConnectedNeuralNetwork:\n",
    "    def __init__(self, x,y):\n",
    "        self.input = np.array(x)\n",
    "        self.weights1= np.random.rand(self.input.shape[1],4) # considering we have 4 nodes in the hidden layer\n",
    "        self.weights2 = np.random.rand(4,1)\n",
    "        self.y = y\n",
    "        self.output = np.zeros(y.shape)\n",
    "    # Activation function\n",
    "    def sigmoid(self, x):\n",
    "        return 1/(1+np.exp(-x))\n",
    "    # Derivative of sigmoid\n",
    "    def sigmoid_derivative(self, x):\n",
    "        return (x * (1 - x))  \n",
    "    #Feed Forward\n",
    "    def feedforward(self):\n",
    "        self.layer1 = self.sigmoid(np.dot(self.input, self.weights1))\n",
    "        self.layer2 = self.sigmoid(np.dot(self.layer1, self.weights2))\n",
    "        return self.layer2\n",
    "    #Backpropagation \n",
    "    def backprop(self):\n",
    "        d_weights2 = np.dot(self.layer1.T, 2*(self.y -self.output)*self.sigmoid_derivative(self.output))\n",
    "        d_weights1 = np.dot(self.input.T, np.dot(2*(self.y -self.output)*\n",
    "                     self.sigmoid_derivative(self.output), self.weights2.T)*self.sigmoid_derivative(self.layer1))\n",
    "        self.weights1 += d_weights1\n",
    "        self.weights2 += d_weights2\n",
    "    #Train\n",
    "    def classfication(self):\n",
    "        fo=np.zeros(self.output.shape)\n",
    "        j=0\n",
    "        for i in self.output:\n",
    "            if i>=0.5:\n",
    "                fo[j]=1\n",
    "            else:\n",
    "                fo[j]=0\n",
    "            j=j+1\n",
    "        return fo\n",
    "    def train(self):\n",
    "        for i in range(100000):\n",
    "            self.output = self.feedforward()\n",
    "            self.backprop()\n",
    "        finaloutput=self.classfication()\n",
    "        #for i in finaloutput:\n",
    "        print(\"Weights1:\")\n",
    "        print(self.weights1)\n",
    "        print(\"-------------\")\n",
    "        print(\"Weights2:\")\n",
    "        print(self.weights2)\n",
    "        print(\"-------------\")\n",
    "        print(\"Predictive Output:\")\n",
    "        print(self.output.T)\n",
    "        print(\"Predictive Output class:\")\n",
    "        print(finaloutput.T)\n",
    "        print(\"Actual Output:\")\n",
    "        print(self.y.T)        "
   ]
  },
  {
   "cell_type": "code",
   "execution_count": 5,
   "metadata": {},
   "outputs": [
    {
     "name": "stdout",
     "output_type": "stream",
     "text": [
      "Weights1:\n",
      "[[ 4.03066301 -5.35693779 -1.58832296 -0.63250339]\n",
      " [ 0.80940955  0.96125754  0.1026228   0.76505702]\n",
      " [-4.75670582  2.06918768 -9.59686294 -4.77832637]]\n",
      "-------------\n",
      "Weights2:\n",
      "[[-11.04609985]\n",
      " [ 10.32210098]\n",
      " [ 10.30431665]\n",
      " [-10.82360771]]\n",
      "-------------\n",
      "Predictive Output:\n",
      "[[4.99651227e-01 7.75571880e-01 6.04342600e-01 4.99651227e-01\n",
      "  3.53130216e-04 1.82777444e-04 1.23209235e-05 4.99651227e-01\n",
      "  8.37877545e-01 4.99651227e-01 4.64100288e-04 8.26566644e-01\n",
      "  4.99651227e-01 5.81449662e-01 5.52347451e-01 7.26795611e-01\n",
      "  2.24517948e-05 5.11460675e-01 5.51588206e-01 7.19383204e-01\n",
      "  5.90466976e-01 6.97181926e-01 5.52347451e-01 7.94105350e-01\n",
      "  9.18008492e-01 8.67858786e-01 9.14850258e-01 5.49693104e-01\n",
      "  8.54243490e-01 8.01958875e-01 9.31256203e-01 9.30870101e-01\n",
      "  9.54424397e-01 9.73212907e-01]]\n",
      "Predictive Output class:\n",
      "[[0. 1. 1. 0. 0. 0. 0. 0. 1. 0. 0. 1. 0. 1. 1. 1. 0. 1. 1. 1. 1. 1. 1. 1.\n",
      "  1. 1. 1. 1. 1. 1. 1. 1. 1. 1.]]\n",
      "Actual Output:\n",
      "[[0. 0. 1. 0. 0. 0. 0. 0. 1. 1. 0. 0. 0. 0. 1. 1. 0. 0. 1. 0. 1. 0. 1. 1.\n",
      "  1. 1. 1. 1. 1. 1. 1. 1. 1. 1.]]\n"
     ]
    }
   ],
   "source": [
    "nn=FullyConnectedNeuralNetwork(H2,y)\n",
    "nn.train()"
   ]
  },
  {
   "cell_type": "code",
   "execution_count": null,
   "metadata": {},
   "outputs": [],
   "source": []
  }
 ],
 "metadata": {
  "kernelspec": {
   "display_name": "Python 3",
   "language": "python",
   "name": "python3"
  },
  "language_info": {
   "codemirror_mode": {
    "name": "ipython",
    "version": 3
   },
   "file_extension": ".py",
   "mimetype": "text/x-python",
   "name": "python",
   "nbconvert_exporter": "python",
   "pygments_lexer": "ipython3",
   "version": "3.7.4"
  }
 },
 "nbformat": 4,
 "nbformat_minor": 2
}
